{
  "nbformat": 4,
  "nbformat_minor": 0,
  "metadata": {
    "kernelspec": {
      "display_name": "Python 3",
      "language": "python",
      "name": "python3"
    },
    "language_info": {
      "codemirror_mode": {
        "name": "ipython",
        "version": 3
      },
      "file_extension": ".py",
      "mimetype": "text/x-python",
      "name": "python",
      "nbconvert_exporter": "python",
      "pygments_lexer": "ipython3",
      "version": "3.6.8"
    },
    "colab": {
      "name": "Copy of Апрельский курс-2020 Light. Python. Домашнее задание 2",
      "provenance": [],
      "collapsed_sections": [],
      "include_colab_link": true
    }
  },
  "cells": [
    {
      "cell_type": "markdown",
      "metadata": {
        "id": "view-in-github",
        "colab_type": "text"
      },
      "source": [
        "<a href=\"https://colab.research.google.com/github/Justmove08/Lesson_1/blob/master/%D0%90%D0%BF%D1%80%D0%B5%D0%BB%D1%8C%D1%81%D0%BA%D0%B8%D0%B9_%D0%BA%D1%83%D1%80%D1%81_2020_Light_Python_%D0%94%D0%BE%D0%BC%D0%B0%D1%88%D0%BD%D0%B5%D0%B5_%D0%B7%D0%B0%D0%B4%D0%B0%D0%BD%D0%B8%D0%B5_2.ipynb\" target=\"_parent\"><img src=\"https://colab.research.google.com/assets/colab-badge.svg\" alt=\"Open In Colab\"/></a>"
      ]
    },
    {
      "cell_type": "markdown",
      "metadata": {
        "id": "rt7rnNMZ8SYb",
        "colab_type": "text"
      },
      "source": [
        "# Нейронные сети\n",
        "\n",
        "## Домашнее задание 2. Numpy и функции\n",
        "\n",
        "# Light"
      ]
    },
    {
      "cell_type": "markdown",
      "metadata": {
        "id": "x3viGq298SYv",
        "colab_type": "text"
      },
      "source": [
        "### Задача 1\n",
        "\n",
        "1. Подгрузите файл **train_vector_1.csv** с помощью функции **np.loadtxt**. \n",
        "\n",
        "2. Назовите подгруженный массив my_array.\n",
        "\n",
        "3. Убедитесь, что подгруженный массив имеет тип np.ndarray (выведите тип переменной my_array).\n",
        "\n",
        "Ссылка на файл: https://drive.google.com/open?id=1ngnrhmoMInequrA6JyAe90lEPhcbi0iH"
      ]
    },
    {
      "cell_type": "code",
      "metadata": {
        "id": "Rdy8bLUYdDO6",
        "colab_type": "code",
        "outputId": "3f377ca8-8e52-4b7c-d387-72130ee1392f",
        "colab": {
          "base_uri": "https://localhost:8080/",
          "height": 122
        }
      },
      "source": [
        "from google.colab import drive\n",
        "drive.mount('/content/drive')"
      ],
      "execution_count": 0,
      "outputs": [
        {
          "output_type": "stream",
          "text": [
            "Go to this URL in a browser: https://accounts.google.com/o/oauth2/auth?client_id=947318989803-6bn6qk8qdgf4n4g3pfee6491hc0brc4i.apps.googleusercontent.com&redirect_uri=urn%3aietf%3awg%3aoauth%3a2.0%3aoob&response_type=code&scope=email%20https%3a%2f%2fwww.googleapis.com%2fauth%2fdocs.test%20https%3a%2f%2fwww.googleapis.com%2fauth%2fdrive%20https%3a%2f%2fwww.googleapis.com%2fauth%2fdrive.photos.readonly%20https%3a%2f%2fwww.googleapis.com%2fauth%2fpeopleapi.readonly\n",
            "\n",
            "Enter your authorization code:\n",
            "··········\n",
            "Mounted at /content/drive\n"
          ],
          "name": "stdout"
        }
      ]
    },
    {
      "cell_type": "code",
      "metadata": {
        "id": "LPAkMAurhtYD",
        "colab_type": "code",
        "outputId": "38601747-6dab-4f0f-8550-4b4efc073e6e",
        "colab": {
          "base_uri": "https://localhost:8080/",
          "height": 34
        }
      },
      "source": [
        "import numpy as np\n",
        "my_array = np.loadtxt('/content/drive/My Drive/NeuralUniversity/iris.csv', delimiter=',', skiprows=1)\n",
        "print('Подгруженный массив имеет тип:',type(my_array))"
      ],
      "execution_count": 0,
      "outputs": [
        {
          "output_type": "stream",
          "text": [
            "Подгруженный массив имеет тип: <class 'numpy.ndarray'>\n"
          ],
          "name": "stdout"
        }
      ]
    },
    {
      "cell_type": "markdown",
      "metadata": {
        "id": "Sa06XNJq8SY4",
        "colab_type": "text"
      },
      "source": [
        "### Задача 2\n",
        "\n",
        "Напишите код, который считает среднее значение всех элементов массива (без использования встроенных функций np.mean и т.д.). Для решения задачи воспользуйтесь циклом.\n",
        "* С помощью команды %%timeit отобразите время выполнения написанного кода.\n",
        "* Преобразуйте массив my_array в список (с помощью метода list()), сохраните его в переменной my_list.\n",
        "* В новой ячейке посчитайте среднее значение всех элементов списка (воспользуйтесь тем же самым кодом, что и для массива).\n",
        "* Командой %%timeit отобразите время выполнения и этой ячейки."
      ]
    },
    {
      "cell_type": "code",
      "metadata": {
        "id": "YKFp_0amhTCQ",
        "colab_type": "code",
        "outputId": "5d9cf3d3-3aa2-46ff-ece6-5ec06b3d2af9",
        "colab": {
          "base_uri": "https://localhost:8080/",
          "height": 51
        }
      },
      "source": [
        "# Решение №1. С помощью циклов и массива\n",
        "import numpy as np\n",
        "my_array = np.loadtxt(('/content/drive/My Drive/NeuralUniversity/iris.csv'), delimiter=',', skiprows=1)\n",
        "column_counter = -1 # Счетчик колонок\n",
        "element_counter_1 = 0 # Счетчик количества элеменов\n",
        "sum_1 = 0 # Сохранение суммы для последующего вычисления среднего значения\n",
        "for temp_value_1 in my_array[0]: # При помощи temp_value_1 отслеживаем количество колонок в массиве\n",
        "    column_counter = column_counter + 1\n",
        "    for temp_value_2 in my_array[:,column_counter]: # temp_value_2 записывает значение каждого элемента в столбце и суммирует в переменную sum\n",
        "        sum_1 = temp_value_2 + sum_1\n",
        "        element_counter_1 = element_counter_1 + 1\n",
        "answer_1 = sum_1 / element_counter_1\n",
        "print('Среднее значение всех элементов массива равно (вычислено при помощи циклов): ', answer_1) # Вычисляем среднее арифметическое путем деления суммы всех элементов на их количество\n",
        "print('Проверяем себя при помощи метода .mean:', my_array.mean())"
      ],
      "execution_count": 0,
      "outputs": [
        {
          "output_type": "stream",
          "text": [
            "Среднее значение всех элементов массива равно (вычислено при помощи циклов):  17.671599999999998\n",
            "Проверяем себя при помощи метода .mean: 17.671599999999998\n"
          ],
          "name": "stdout"
        }
      ]
    },
    {
      "cell_type": "code",
      "metadata": {
        "id": "-VQWjXahjA0H",
        "colab_type": "code",
        "outputId": "ed2b4dbe-bb88-4bf6-c47f-56bfef8fac82",
        "colab": {
          "base_uri": "https://localhost:8080/",
          "height": 34
        }
      },
      "source": [
        "%%timeit\n",
        "answer_1"
      ],
      "execution_count": 0,
      "outputs": [
        {
          "output_type": "stream",
          "text": [
            "100000000 loops, best of 3: 17.8 ns per loop\n"
          ],
          "name": "stdout"
        }
      ]
    },
    {
      "cell_type": "code",
      "metadata": {
        "id": "9iYUVs46KwjQ",
        "colab_type": "code",
        "outputId": "0c3fb5db-a307-40e6-9a23-f48435ba81c0",
        "colab": {
          "base_uri": "https://localhost:8080/",
          "height": 34
        }
      },
      "source": [
        "# Решение №1. С помощью циклов и массива для файла train_vector_1.csv\n",
        "import numpy as np\n",
        "my_array = np.loadtxt('/content/drive/My Drive/NeuralUniversity/train_vector_1.csv')\n",
        "sum = 0\n",
        "counter = 0\n",
        "for i in my_array:\n",
        "  sum = i + sum\n",
        "  counter = counter + 1\n",
        "average_value = sum / counter\n",
        "print('Среднее значение всех элементов массива (my_array) составляет:', average_value)"
      ],
      "execution_count": 0,
      "outputs": [
        {
          "output_type": "stream",
          "text": [
            "Среднее значение всех элементов массива (my_array) составляет: 3.057333333333334\n"
          ],
          "name": "stdout"
        }
      ]
    },
    {
      "cell_type": "code",
      "metadata": {
        "id": "CEhaP_dmVwQj",
        "colab_type": "code",
        "outputId": "843157a3-f7ed-40d9-e441-dee8c0113d3d",
        "colab": {
          "base_uri": "https://localhost:8080/",
          "height": 34
        }
      },
      "source": [
        "%%timeit\n",
        "my_array = np.loadtxt('/content/drive/My Drive/NeuralUniversity/train_vector_1.csv')\n",
        "sum = 0\n",
        "counter = 0\n",
        "for i in my_array:\n",
        "  sum = i + sum\n",
        "  counter = counter + 1\n",
        "average_value = sum / counter"
      ],
      "execution_count": 0,
      "outputs": [
        {
          "output_type": "stream",
          "text": [
            "1000 loops, best of 3: 1.64 ms per loop\n"
          ],
          "name": "stdout"
        }
      ]
    },
    {
      "cell_type": "code",
      "metadata": {
        "id": "G8Tp2DgshTMi",
        "colab_type": "code",
        "outputId": "5d8693d2-bc88-4c08-aec2-5c25cb07c4d6",
        "colab": {
          "base_uri": "https://localhost:8080/",
          "height": 34
        }
      },
      "source": [
        "# Решение №2. При помощи списка и циклов\n",
        "import numpy as np\n",
        "my_array = np.loadtxt(('/content/drive/My Drive/NeuralUniversity/iris.csv'), delimiter=',', skiprows=1)\n",
        "my_list = list(my_array)\n",
        "array_counter = 0\n",
        "element_counter_2 = 0\n",
        "sum_2 = 0\n",
        "for i in my_list:\n",
        "    element_in_list_counter = 0\n",
        "    for z in my_list[array_counter]:\n",
        "        sum_2 = z + sum_2\n",
        "        element_in_list_counter = element_in_list_counter + 1\n",
        "        element_counter_2 = element_counter_2 + 1\n",
        "    array_counter = array_counter + 1\n",
        "answer_2 = sum_2 / element_counter_2\n",
        "print('Среднее значение элементов списка (my_list) составляет:', sum_2 / element_counter_2)"
      ],
      "execution_count": 0,
      "outputs": [
        {
          "output_type": "stream",
          "text": [
            "Среднее значение элементов списка (my_list) составляет: 17.6716\n"
          ],
          "name": "stdout"
        }
      ]
    },
    {
      "cell_type": "code",
      "metadata": {
        "id": "3sVVn-hbj1FG",
        "colab_type": "code",
        "outputId": "d484ed0e-4ca7-4c50-eb1f-de194c936946",
        "colab": {
          "base_uri": "https://localhost:8080/",
          "height": 34
        }
      },
      "source": [
        "%%timeit\n",
        "answer_2"
      ],
      "execution_count": 0,
      "outputs": [
        {
          "output_type": "stream",
          "text": [
            "10000000 loops, best of 3: 21.8 ns per loop\n"
          ],
          "name": "stdout"
        }
      ]
    },
    {
      "cell_type": "code",
      "metadata": {
        "id": "EzxAJYCqWXDJ",
        "colab_type": "code",
        "colab": {}
      },
      "source": [
        "# Решение №2. При помощи списка и циклов для файла train_vector_1.csv\n",
        "import numpy as np"
      ],
      "execution_count": 0,
      "outputs": []
    },
    {
      "cell_type": "code",
      "metadata": {
        "id": "nlP_UAu0WdfO",
        "colab_type": "code",
        "outputId": "f8525db7-ef02-49b3-f6d1-602296e2f7cf",
        "colab": {
          "base_uri": "https://localhost:8080/",
          "height": 34
        }
      },
      "source": [
        "my_array = np.loadtxt('/content/drive/My Drive/NeuralUniversity/train_vector_1.csv')\n",
        "my_list = list(my_array)\n",
        "sum = 0\n",
        "count = 0\n",
        "for i in my_list:\n",
        "  sum = sum + i\n",
        "  count = count + 1\n",
        "average_value = sum / count\n",
        "print('Среднее значение элементов списка (my_list) составляет:', average_value)"
      ],
      "execution_count": 0,
      "outputs": [
        {
          "output_type": "stream",
          "text": [
            "3.057333333333334\n"
          ],
          "name": "stdout"
        }
      ]
    },
    {
      "cell_type": "code",
      "metadata": {
        "id": "2ipXf-J0Zo_g",
        "colab_type": "code",
        "outputId": "e5be10c2-ee66-4801-a4e2-95589ddb04bb",
        "colab": {
          "base_uri": "https://localhost:8080/",
          "height": 34
        }
      },
      "source": [
        "%%timeit\n",
        "my_array = np.loadtxt('/content/drive/My Drive/NeuralUniversity/train_vector_1.csv')\n",
        "my_list = list(my_array)\n",
        "sum = 0\n",
        "count = 0\n",
        "for i in my_list:\n",
        "  sum = sum + i\n",
        "  count = count + 1\n",
        "average_value = sum / count"
      ],
      "execution_count": 0,
      "outputs": [
        {
          "output_type": "stream",
          "text": [
            "1000 loops, best of 3: 1.63 ms per loop\n"
          ],
          "name": "stdout"
        }
      ]
    },
    {
      "cell_type": "markdown",
      "metadata": {
        "id": "Z7JZ-m918SZA",
        "colab_type": "text"
      },
      "source": [
        "### Задача 3\n",
        "\n",
        "Подгрузите файл **iris.csv** с помощью встроенной функции **np.loadtxt**. Назовите его my_2d_array. Напиишите код, который считает сумму элементов массива по столбцам (для решения данной задачи воспользуйтесь разделом ноутбук \"Операции с двумерными массивами и встроенные методы\")."
      ]
    },
    {
      "cell_type": "code",
      "metadata": {
        "id": "dkc7Bjujl5oY",
        "colab_type": "code",
        "outputId": "d85c106e-5dd3-45c5-9388-355566d26757",
        "colab": {
          "base_uri": "https://localhost:8080/",
          "height": 34
        }
      },
      "source": [
        "import numpy as np\n",
        "my_2d_array = np.loadtxt(('/content/drive/My Drive/NeuralUniversity/iris.csv'), delimiter=',', skiprows=1)\n",
        "sum = my_2d_array.sum(axis = 0)\n",
        "print(sum)"
      ],
      "execution_count": 0,
      "outputs": [
        {
          "output_type": "stream",
          "text": [
            "[11175.    876.5   458.6   563.7   179.9]\n"
          ],
          "name": "stdout"
        }
      ]
    },
    {
      "cell_type": "markdown",
      "metadata": {
        "id": "5lm0wgbRzVSA",
        "colab_type": "text"
      },
      "source": [
        "### Задача 4 \n",
        "\n",
        "* Используя библиотеку numpy, создайте массив 3x3, значения которого находятся в диапазоне от 11 до 40 (раздел \"Семплирование из распределений\"). \n",
        "\n",
        "* Не используя цикл for,  выведите на экран список элементов, которые меньше 20 (раздел \"Индексация\").\n",
        "\n",
        "* Просуммируйте все элементы, не используя цикл for (раздел \"Встроенные методы\").\n"
      ]
    },
    {
      "cell_type": "code",
      "metadata": {
        "id": "pKLlXXJzTUuj",
        "colab_type": "code",
        "outputId": "e8612a74-5ffa-446b-9e76-0afa344133a1",
        "colab": {
          "base_uri": "https://localhost:8080/",
          "height": 68
        }
      },
      "source": [
        "import numpy as np\n",
        "i = np.random.randint(11,41,(3,3))\n",
        "b = i[i < 20]\n",
        "print('Элементы массива, значения которых меньше 20:', i[i < 20])\n",
        "print('Сумма всех элементов массива, значения которых меньше 20: ', b.sum())\n",
        "print('Сумма всех элементов массива составляет: ', i.sum())"
      ],
      "execution_count": 0,
      "outputs": [
        {
          "output_type": "stream",
          "text": [
            "Элементы массива, значения которых меньше 20: [13 14]\n",
            "Сумма всех элементов массива, значения которых меньше 20:  27\n",
            "Сумма всех элементов массива составляет:  226\n"
          ],
          "name": "stdout"
        }
      ]
    },
    {
      "cell_type": "markdown",
      "metadata": {
        "colab_type": "text",
        "id": "4t6Yrs7Vj80p"
      },
      "source": [
        "### Задача 5\n",
        "\n",
        "* Создайте массив, который будет содержать списки с именем студента(str), его возрастом(int) и средней оценкой(float) (обратите внимание на пример с занятия со списком автомобильных регионов).\n",
        "* Отсортируйте такой массив (обратите внимание на параметр order метода sort()).\n",
        "* Замените значение, отвечающее за возраст, у всех студентов на одно и то же, например, 10. Отсортируйте такой массив. "
      ]
    },
    {
      "cell_type": "code",
      "metadata": {
        "id": "3Qp8nMKuiSJl",
        "colab_type": "code",
        "outputId": "4fc15a39-f591-4518-c81a-018c78e0f385",
        "colab": {
          "base_uri": "https://localhost:8080/",
          "height": 102
        }
      },
      "source": [
        "import numpy as np\n",
        "my_type = [('Имя студента', '<U32'), ('Возраст', np.int32), ('Средняя оценка', np.float64)]\n",
        "values = [('Алексей', 23, 4.5),('Николай', 19, 5.5),('Дарья', 18, 2.5)]\n",
        "students = np.array(values, dtype = my_type)\n",
        "\n",
        "print('Исходное состояние массива: ', students)\n",
        "\n",
        "name_sort = np.sort(students, order = 'Имя студента')\n",
        "print('Сортировка элементов массива по имени: ', name_sort)\n",
        "\n",
        "age_sort = np.sort(students, order = 'Возраст')\n",
        "print('Сортировка элементов массива по возрасту: ', age_sort)\n",
        "\n",
        "point_sort = np.sort(students, order = 'Средняя оценка')\n",
        "print('Сортировка элементов массива по средней оценке: ', point_sort)\n",
        "\n",
        "students['Возраст'] = 10\n",
        "var_10 = np.sort(students)\n",
        "print('Замена значений возраста у всех студентов на 10: ', var_10)\n"
      ],
      "execution_count": 0,
      "outputs": [
        {
          "output_type": "stream",
          "text": [
            "Исходное состояние массива:  [('Алексей', 23, 4.5) ('Николай', 19, 5.5) ('Дарья', 18, 2.5)]\n",
            "Сортировка элементов массива по имени:  [('Алексей', 23, 4.5) ('Дарья', 18, 2.5) ('Николай', 19, 5.5)]\n",
            "Сортировка элементов массива по возрасту:  [('Дарья', 18, 2.5) ('Николай', 19, 5.5) ('Алексей', 23, 4.5)]\n",
            "Сортировка элементов массива по средней оценке:  [('Дарья', 18, 2.5) ('Алексей', 23, 4.5) ('Николай', 19, 5.5)]\n",
            "Замена значений возраста у всех студентов на 10:  [('Алексей', 10, 4.5) ('Дарья', 10, 2.5) ('Николай', 10, 5.5)]\n"
          ],
          "name": "stdout"
        }
      ]
    },
    {
      "cell_type": "markdown",
      "metadata": {
        "id": "vl0mM1mc8SZc",
        "colab_type": "text"
      },
      "source": [
        "## Pro версия"
      ]
    },
    {
      "cell_type": "markdown",
      "metadata": {
        "id": "iQhtbx8Z8SZj",
        "colab_type": "text"
      },
      "source": [
        "### Задача 1\n",
        "\n",
        "* Подгрузите массив **iris.csv** и назовите его my_array. \n",
        "\n",
        "* Создайте двумерный массив из случайных чисел той же размерности, что и my_array (раздел \"Семплирование из распределений\", потребуется использовать размерность массива my_array).\n",
        "\n",
        "* Назовите его my_generated_array."
      ]
    },
    {
      "cell_type": "code",
      "metadata": {
        "id": "kM5mIoBztsH3",
        "colab_type": "code",
        "outputId": "b36a8075-b27e-44de-95c1-b06a4168e061",
        "colab": {
          "base_uri": "https://localhost:8080/",
          "height": 1000
        }
      },
      "source": [
        "import numpy as np\n",
        "my_array = np.loadtxt('/content/drive/My Drive/NeuralUniversity/iris.csv', delimiter =  ',', skiprows = 1)\n",
        "my_generated_array = np.random.randint(1,100,(150,5))\n",
        "print(my_generated_array)\n",
        "print('\\nПроверка на соответствие условию о создании массива той же размерности: ')\n",
        "print('Размерность массива \"my_array\": ', my_array.shape)\n",
        "print('Количество элементов в массиве \"my_array\": ', my_array.size)\n",
        "print('Размерность массива \"my_generated_array\": ', my_generated_array.shape)\n",
        "print('Количество элементов в массиве \"my_generated_array\": ', my_generated_array.size)"
      ],
      "execution_count": 0,
      "outputs": [
        {
          "output_type": "stream",
          "text": [
            "[[48 97 28 31 97]\n",
            " [59 43 37 69 97]\n",
            " [22 39 12 31 33]\n",
            " [61 30 58 96 42]\n",
            " [69 56 41 72 20]\n",
            " [27 25 77 40 61]\n",
            " [17 19  6 89  6]\n",
            " [37 11 50 18 13]\n",
            " [45 54 30 72 59]\n",
            " [88 62 81 57 11]\n",
            " [89 28 19 47 87]\n",
            " [48 64 23 75 29]\n",
            " [93 17 37 90  1]\n",
            " [48 24 23 53 25]\n",
            " [67 99 79 70 78]\n",
            " [91 21 75 16 65]\n",
            " [16 44 50 44 54]\n",
            " [77 35 73 87 40]\n",
            " [16 44 92 78 86]\n",
            " [58 32 68 44 13]\n",
            " [68 65 91 54 35]\n",
            " [69 43  1 26 74]\n",
            " [53 55 38 17 51]\n",
            " [36 39 18 22  7]\n",
            " [25 98 25 23 84]\n",
            " [93 86 96 27 70]\n",
            " [93 94 25 36 14]\n",
            " [77 70 84  2 61]\n",
            " [ 2 79  6 62 94]\n",
            " [72 13 69 59 43]\n",
            " [83 29 61 69 86]\n",
            " [48 44  7 42 92]\n",
            " [17  6 95 35 94]\n",
            " [38 94 78  6 64]\n",
            " [38  9 65 61 63]\n",
            " [99 23 19 87 90]\n",
            " [71 31 91 41  3]\n",
            " [95 93 67 63 24]\n",
            " [85 11 60  6 42]\n",
            " [88 53 92 59 43]\n",
            " [84  7  2 64 53]\n",
            " [28 40  9 16 22]\n",
            " [98 61 75 22 60]\n",
            " [68 72 59 10 10]\n",
            " [33 29 25 48 29]\n",
            " [93 88 28 81 18]\n",
            " [47 10 65 82 85]\n",
            " [13 30 31 20 92]\n",
            " [37 21  6 95 47]\n",
            " [13 13 94  6 19]\n",
            " [17 58 34 93 35]\n",
            " [79 66 16 75 42]\n",
            " [ 6 73 56 79 79]\n",
            " [71 85 31 36 46]\n",
            " [11 61 21 55 41]\n",
            " [ 6 22 35 22 62]\n",
            " [29 21 19 82 23]\n",
            " [51 30 97 37  1]\n",
            " [ 4 13 61 88 89]\n",
            " [64 93 39  7 62]\n",
            " [40 40 12 40 29]\n",
            " [60 78 29 89 98]\n",
            " [90 18 45 54 21]\n",
            " [15 52 66 61 70]\n",
            " [26 83 96 91  7]\n",
            " [90 34  7 53 14]\n",
            " [43  8 90 81 27]\n",
            " [ 3 67 73 26 98]\n",
            " [23 79 77 38 49]\n",
            " [96 79 68 32 49]\n",
            " [ 6 67 94 73 15]\n",
            " [62 27 55 59 57]\n",
            " [60 12  5 52 39]\n",
            " [83 53 29 60 95]\n",
            " [21  6 35  9 42]\n",
            " [89 77 30 27 56]\n",
            " [30 10 90 56 15]\n",
            " [51  8 41 83 43]\n",
            " [91 20 68 35 41]\n",
            " [91 92 69 67 67]\n",
            " [48 37 34 11 48]\n",
            " [20 11 47 78 15]\n",
            " [54 97 80 97 43]\n",
            " [58 32 22  8 66]\n",
            " [76 74 54 28 99]\n",
            " [37 68 14 98 63]\n",
            " [13 95 80 48 98]\n",
            " [29 83  8 80 30]\n",
            " [95 70 76 97 37]\n",
            " [67 81 80 82 50]\n",
            " [86 23 43 95 70]\n",
            " [81 28 62 52 62]\n",
            " [27  9 30 25 38]\n",
            " [20 45  2 72 29]\n",
            " [70 42 72 50 54]\n",
            " [89 97 44 32  8]\n",
            " [47 83 63 69 41]\n",
            " [86 37 79  7 99]\n",
            " [93 30  7 95 61]\n",
            " [48 27 76 43 85]\n",
            " [56 31  7 37 68]\n",
            " [12 68 56  7 80]\n",
            " [17 60 92 55 87]\n",
            " [17 95 75 24 52]\n",
            " [18 35 82 95 92]\n",
            " [20 23 89 54 23]\n",
            " [64 60 60 72 87]\n",
            " [43 73 76 99 39]\n",
            " [94  4 20 10  7]\n",
            " [96 61  7 14 51]\n",
            " [76 22 23  6 34]\n",
            " [58 80 18 23 26]\n",
            " [73  9  3 78  3]\n",
            " [62 79  2 80 53]\n",
            " [22 49 84 46  2]\n",
            " [86 59 37 66 22]\n",
            " [47 61  8 25 87]\n",
            " [91  1 63 10 93]\n",
            " [46 78 61 39 50]\n",
            " [86 21 36 41 58]\n",
            " [64 91 32 63 90]\n",
            " [24 26 71 55 30]\n",
            " [97 87 99 55 36]\n",
            " [27 23  6 61 95]\n",
            " [33 75 27 61 97]\n",
            " [75 15 28 23 25]\n",
            " [56 49 51 20 55]\n",
            " [18 20  2 42 42]\n",
            " [33 85 37 13 17]\n",
            " [46 81 47 44 41]\n",
            " [59 43 35 41 80]\n",
            " [ 3 85 63 95  6]\n",
            " [79 44 65 29 73]\n",
            " [34 18  1 34 38]\n",
            " [94 46 97 41  6]\n",
            " [12 45 39 66 42]\n",
            " [55 12 82 17 67]\n",
            " [67 93 93 71 75]\n",
            " [68 56 16  7 85]\n",
            " [73 41 71 26 14]\n",
            " [51 36 24 55 93]\n",
            " [27 98 16 29 72]\n",
            " [60 48 36 44 98]\n",
            " [44 33 42 29 35]\n",
            " [ 2 21  3 23 14]\n",
            " [27 46 20 73 32]\n",
            " [30  5 46 11 83]\n",
            " [ 2 96 94 39 89]\n",
            " [74 83 26 74  4]\n",
            " [93 44 76 65 50]]\n",
            "\n",
            "Проверка на соответствие условию о создании массива той же размерности: \n",
            "Размерность массива \"my_array\":  (150, 5)\n",
            "Количество элементов в массиве \"my_array\":  750\n",
            "Размерность массива \"my_generated_array\":  (150, 5)\n",
            "Количество элементов в массиве \"my_generated_array\":  750\n"
          ],
          "name": "stdout"
        }
      ]
    },
    {
      "cell_type": "markdown",
      "metadata": {
        "id": "hzR46ceA8SZp",
        "colab_type": "text"
      },
      "source": [
        "### Задача 2\n",
        "\n",
        "* Выполните поэлементное умножение my_array на my_generated_array (раздел \"векторные операции\").\n",
        "\n",
        "* Склейте массивы my_array, my_generated_array в один (могут помочь методы np.concatenate, np.vstack, np.hstack).\n",
        "\n",
        "* Возьмите склеенный массив и разделите его на равные части (больше двух). Можно сделать вручную через циклы либо воспользоваться методом vsplit."
      ]
    },
    {
      "cell_type": "code",
      "metadata": {
        "id": "JE5yOjtF9gxN",
        "colab_type": "code",
        "outputId": "c778df7e-f8ed-4c18-ef4f-26a89758dc3f",
        "colab": {
          "base_uri": "https://localhost:8080/",
          "height": 204
        }
      },
      "source": [
        "import numpy as np\n",
        "my_array = np.loadtxt('/content/drive/My Drive/NeuralUniversity/iris.csv', delimiter =  ',', skiprows = 1)\n",
        "my_generated_array = np.random.randint(1,100,(150,5))\n",
        "\n",
        "# Вывод информации о массивах\n",
        "print('Инофмация о массиве \"my_array\":')\n",
        "print('Размерность: ', my_array.shape)\n",
        "print('Количество элементов: ', my_array.size)\n",
        "\n",
        "print('\\nИнофмация о массиве \"my_generated_array\":')\n",
        "print('Размерность: ', my_generated_array.shape)\n",
        "print('Количество элементов: ', my_generated_array.size)\n",
        "\n",
        "# Поэлементное умножение my_array на my_generated_array\n",
        "prod_array = my_array * my_generated_array\n",
        "\n",
        "# Склеивание массива my_array c my_generated_array в один массив concatenate_array\n",
        "concatenate_array = np.concatenate((my_array, my_generated_array))\n",
        "print('\\nИнофмация о склееном массиве \"concatenate_array\":')\n",
        "print('Размерность: ', concatenate_array.shape)\n",
        "print('Количество элементов: ', concatenate_array.size)\n",
        "\n",
        "# Разделение concatenate_array на 3 части при помощи метода .vsplit\n",
        "split_array = np.vsplit(concatenate_array, 3)"
      ],
      "execution_count": 53,
      "outputs": [
        {
          "output_type": "stream",
          "text": [
            "Инофмация о массиве \"my_array\":\n",
            "Размерность:  (150, 5)\n",
            "Количество элементов:  750\n",
            "\n",
            "Инофмация о массиве \"my_generated_array\":\n",
            "Размерность:  (150, 5)\n",
            "Количество элементов:  750\n",
            "\n",
            "Инофмация о склееном массиве \"concatenate_array\":\n",
            "Размерность:  (300, 5)\n",
            "Количество элементов:  1500\n"
          ],
          "name": "stdout"
        }
      ]
    },
    {
      "cell_type": "code",
      "metadata": {
        "id": "IokSFyGZvixd",
        "colab_type": "code",
        "colab": {
          "base_uri": "https://localhost:8080/",
          "height": 1000
        },
        "outputId": "ee51a88a-9859-4fdd-e359-c986d6853289"
      },
      "source": [
        "'''\n",
        "Решение разделения NumPy массива на равное количество частей при помощи цикла. Количество частей определяет пользователь\n",
        "Для работы кода необходимо запустить предыдущую ячейку\n",
        "'''\n",
        "part = int(input('Введите количество частей, на которые необходимо разделить NymPy массив: '))\n",
        "n1 = 0\n",
        "n2 = int((concatenate_array.shape[0] / part) + 1)\n",
        "cycle_splited_list = []\n",
        "for i in range(part):\n",
        "    part_array = concatenate_array[n1:n2,:]\n",
        "    cycle_splited_list.append(part_array)\n",
        "    n1 = n2\n",
        "    n2 = n2 + int((concatenate_array.shape[0] / part))\n",
        "cycle_splited_array = np.array(cycle_splited_list)\n",
        "print(cycle_splited_array)\n",
        "print('\\nКоличество равных NumPy массивов в NumPy массиве составляет:', cycle_splited_array.size)"
      ],
      "execution_count": 57,
      "outputs": [
        {
          "output_type": "stream",
          "text": [
            "Введите количество частей, на которые необходимо разделить NymPy массив: 3\n",
            "[array([[  0. ,   5.1,   3.5,   1.4,   0.2],\n",
            "       [  1. ,   4.9,   3. ,   1.4,   0.2],\n",
            "       [  2. ,   4.7,   3.2,   1.3,   0.2],\n",
            "       [  3. ,   4.6,   3.1,   1.5,   0.2],\n",
            "       [  4. ,   5. ,   3.6,   1.4,   0.2],\n",
            "       [  5. ,   5.4,   3.9,   1.7,   0.4],\n",
            "       [  6. ,   4.6,   3.4,   1.4,   0.3],\n",
            "       [  7. ,   5. ,   3.4,   1.5,   0.2],\n",
            "       [  8. ,   4.4,   2.9,   1.4,   0.2],\n",
            "       [  9. ,   4.9,   3.1,   1.5,   0.1],\n",
            "       [ 10. ,   5.4,   3.7,   1.5,   0.2],\n",
            "       [ 11. ,   4.8,   3.4,   1.6,   0.2],\n",
            "       [ 12. ,   4.8,   3. ,   1.4,   0.1],\n",
            "       [ 13. ,   4.3,   3. ,   1.1,   0.1],\n",
            "       [ 14. ,   5.8,   4. ,   1.2,   0.2],\n",
            "       [ 15. ,   5.7,   4.4,   1.5,   0.4],\n",
            "       [ 16. ,   5.4,   3.9,   1.3,   0.4],\n",
            "       [ 17. ,   5.1,   3.5,   1.4,   0.3],\n",
            "       [ 18. ,   5.7,   3.8,   1.7,   0.3],\n",
            "       [ 19. ,   5.1,   3.8,   1.5,   0.3],\n",
            "       [ 20. ,   5.4,   3.4,   1.7,   0.2],\n",
            "       [ 21. ,   5.1,   3.7,   1.5,   0.4],\n",
            "       [ 22. ,   4.6,   3.6,   1. ,   0.2],\n",
            "       [ 23. ,   5.1,   3.3,   1.7,   0.5],\n",
            "       [ 24. ,   4.8,   3.4,   1.9,   0.2],\n",
            "       [ 25. ,   5. ,   3. ,   1.6,   0.2],\n",
            "       [ 26. ,   5. ,   3.4,   1.6,   0.4],\n",
            "       [ 27. ,   5.2,   3.5,   1.5,   0.2],\n",
            "       [ 28. ,   5.2,   3.4,   1.4,   0.2],\n",
            "       [ 29. ,   4.7,   3.2,   1.6,   0.2],\n",
            "       [ 30. ,   4.8,   3.1,   1.6,   0.2],\n",
            "       [ 31. ,   5.4,   3.4,   1.5,   0.4],\n",
            "       [ 32. ,   5.2,   4.1,   1.5,   0.1],\n",
            "       [ 33. ,   5.5,   4.2,   1.4,   0.2],\n",
            "       [ 34. ,   4.9,   3.1,   1.5,   0.2],\n",
            "       [ 35. ,   5. ,   3.2,   1.2,   0.2],\n",
            "       [ 36. ,   5.5,   3.5,   1.3,   0.2],\n",
            "       [ 37. ,   4.9,   3.6,   1.4,   0.1],\n",
            "       [ 38. ,   4.4,   3. ,   1.3,   0.2],\n",
            "       [ 39. ,   5.1,   3.4,   1.5,   0.2],\n",
            "       [ 40. ,   5. ,   3.5,   1.3,   0.3],\n",
            "       [ 41. ,   4.5,   2.3,   1.3,   0.3],\n",
            "       [ 42. ,   4.4,   3.2,   1.3,   0.2],\n",
            "       [ 43. ,   5. ,   3.5,   1.6,   0.6],\n",
            "       [ 44. ,   5.1,   3.8,   1.9,   0.4],\n",
            "       [ 45. ,   4.8,   3. ,   1.4,   0.3],\n",
            "       [ 46. ,   5.1,   3.8,   1.6,   0.2],\n",
            "       [ 47. ,   4.6,   3.2,   1.4,   0.2],\n",
            "       [ 48. ,   5.3,   3.7,   1.5,   0.2],\n",
            "       [ 49. ,   5. ,   3.3,   1.4,   0.2],\n",
            "       [ 50. ,   7. ,   3.2,   4.7,   1.4],\n",
            "       [ 51. ,   6.4,   3.2,   4.5,   1.5],\n",
            "       [ 52. ,   6.9,   3.1,   4.9,   1.5],\n",
            "       [ 53. ,   5.5,   2.3,   4. ,   1.3],\n",
            "       [ 54. ,   6.5,   2.8,   4.6,   1.5],\n",
            "       [ 55. ,   5.7,   2.8,   4.5,   1.3],\n",
            "       [ 56. ,   6.3,   3.3,   4.7,   1.6],\n",
            "       [ 57. ,   4.9,   2.4,   3.3,   1. ],\n",
            "       [ 58. ,   6.6,   2.9,   4.6,   1.3],\n",
            "       [ 59. ,   5.2,   2.7,   3.9,   1.4],\n",
            "       [ 60. ,   5. ,   2. ,   3.5,   1. ],\n",
            "       [ 61. ,   5.9,   3. ,   4.2,   1.5],\n",
            "       [ 62. ,   6. ,   2.2,   4. ,   1. ],\n",
            "       [ 63. ,   6.1,   2.9,   4.7,   1.4],\n",
            "       [ 64. ,   5.6,   2.9,   3.6,   1.3],\n",
            "       [ 65. ,   6.7,   3.1,   4.4,   1.4],\n",
            "       [ 66. ,   5.6,   3. ,   4.5,   1.5],\n",
            "       [ 67. ,   5.8,   2.7,   4.1,   1. ],\n",
            "       [ 68. ,   6.2,   2.2,   4.5,   1.5],\n",
            "       [ 69. ,   5.6,   2.5,   3.9,   1.1],\n",
            "       [ 70. ,   5.9,   3.2,   4.8,   1.8],\n",
            "       [ 71. ,   6.1,   2.8,   4. ,   1.3],\n",
            "       [ 72. ,   6.3,   2.5,   4.9,   1.5],\n",
            "       [ 73. ,   6.1,   2.8,   4.7,   1.2],\n",
            "       [ 74. ,   6.4,   2.9,   4.3,   1.3],\n",
            "       [ 75. ,   6.6,   3. ,   4.4,   1.4],\n",
            "       [ 76. ,   6.8,   2.8,   4.8,   1.4],\n",
            "       [ 77. ,   6.7,   3. ,   5. ,   1.7],\n",
            "       [ 78. ,   6. ,   2.9,   4.5,   1.5],\n",
            "       [ 79. ,   5.7,   2.6,   3.5,   1. ],\n",
            "       [ 80. ,   5.5,   2.4,   3.8,   1.1],\n",
            "       [ 81. ,   5.5,   2.4,   3.7,   1. ],\n",
            "       [ 82. ,   5.8,   2.7,   3.9,   1.2],\n",
            "       [ 83. ,   6. ,   2.7,   5.1,   1.6],\n",
            "       [ 84. ,   5.4,   3. ,   4.5,   1.5],\n",
            "       [ 85. ,   6. ,   3.4,   4.5,   1.6],\n",
            "       [ 86. ,   6.7,   3.1,   4.7,   1.5],\n",
            "       [ 87. ,   6.3,   2.3,   4.4,   1.3],\n",
            "       [ 88. ,   5.6,   3. ,   4.1,   1.3],\n",
            "       [ 89. ,   5.5,   2.5,   4. ,   1.3],\n",
            "       [ 90. ,   5.5,   2.6,   4.4,   1.2],\n",
            "       [ 91. ,   6.1,   3. ,   4.6,   1.4],\n",
            "       [ 92. ,   5.8,   2.6,   4. ,   1.2],\n",
            "       [ 93. ,   5. ,   2.3,   3.3,   1. ],\n",
            "       [ 94. ,   5.6,   2.7,   4.2,   1.3],\n",
            "       [ 95. ,   5.7,   3. ,   4.2,   1.2],\n",
            "       [ 96. ,   5.7,   2.9,   4.2,   1.3],\n",
            "       [ 97. ,   6.2,   2.9,   4.3,   1.3],\n",
            "       [ 98. ,   5.1,   2.5,   3. ,   1.1],\n",
            "       [ 99. ,   5.7,   2.8,   4.1,   1.3],\n",
            "       [100. ,   6.3,   3.3,   6. ,   2.5]])\n",
            " array([[101. ,   5.8,   2.7,   5.1,   1.9],\n",
            "       [102. ,   7.1,   3. ,   5.9,   2.1],\n",
            "       [103. ,   6.3,   2.9,   5.6,   1.8],\n",
            "       [104. ,   6.5,   3. ,   5.8,   2.2],\n",
            "       [105. ,   7.6,   3. ,   6.6,   2.1],\n",
            "       [106. ,   4.9,   2.5,   4.5,   1.7],\n",
            "       [107. ,   7.3,   2.9,   6.3,   1.8],\n",
            "       [108. ,   6.7,   2.5,   5.8,   1.8],\n",
            "       [109. ,   7.2,   3.6,   6.1,   2.5],\n",
            "       [110. ,   6.5,   3.2,   5.1,   2. ],\n",
            "       [111. ,   6.4,   2.7,   5.3,   1.9],\n",
            "       [112. ,   6.8,   3. ,   5.5,   2.1],\n",
            "       [113. ,   5.7,   2.5,   5. ,   2. ],\n",
            "       [114. ,   5.8,   2.8,   5.1,   2.4],\n",
            "       [115. ,   6.4,   3.2,   5.3,   2.3],\n",
            "       [116. ,   6.5,   3. ,   5.5,   1.8],\n",
            "       [117. ,   7.7,   3.8,   6.7,   2.2],\n",
            "       [118. ,   7.7,   2.6,   6.9,   2.3],\n",
            "       [119. ,   6. ,   2.2,   5. ,   1.5],\n",
            "       [120. ,   6.9,   3.2,   5.7,   2.3],\n",
            "       [121. ,   5.6,   2.8,   4.9,   2. ],\n",
            "       [122. ,   7.7,   2.8,   6.7,   2. ],\n",
            "       [123. ,   6.3,   2.7,   4.9,   1.8],\n",
            "       [124. ,   6.7,   3.3,   5.7,   2.1],\n",
            "       [125. ,   7.2,   3.2,   6. ,   1.8],\n",
            "       [126. ,   6.2,   2.8,   4.8,   1.8],\n",
            "       [127. ,   6.1,   3. ,   4.9,   1.8],\n",
            "       [128. ,   6.4,   2.8,   5.6,   2.1],\n",
            "       [129. ,   7.2,   3. ,   5.8,   1.6],\n",
            "       [130. ,   7.4,   2.8,   6.1,   1.9],\n",
            "       [131. ,   7.9,   3.8,   6.4,   2. ],\n",
            "       [132. ,   6.4,   2.8,   5.6,   2.2],\n",
            "       [133. ,   6.3,   2.8,   5.1,   1.5],\n",
            "       [134. ,   6.1,   2.6,   5.6,   1.4],\n",
            "       [135. ,   7.7,   3. ,   6.1,   2.3],\n",
            "       [136. ,   6.3,   3.4,   5.6,   2.4],\n",
            "       [137. ,   6.4,   3.1,   5.5,   1.8],\n",
            "       [138. ,   6. ,   3. ,   4.8,   1.8],\n",
            "       [139. ,   6.9,   3.1,   5.4,   2.1],\n",
            "       [140. ,   6.7,   3.1,   5.6,   2.4],\n",
            "       [141. ,   6.9,   3.1,   5.1,   2.3],\n",
            "       [142. ,   5.8,   2.7,   5.1,   1.9],\n",
            "       [143. ,   6.8,   3.2,   5.9,   2.3],\n",
            "       [144. ,   6.7,   3.3,   5.7,   2.5],\n",
            "       [145. ,   6.7,   3. ,   5.2,   2.3],\n",
            "       [146. ,   6.3,   2.5,   5. ,   1.9],\n",
            "       [147. ,   6.5,   3. ,   5.2,   2. ],\n",
            "       [148. ,   6.2,   3.4,   5.4,   2.3],\n",
            "       [149. ,   5.9,   3. ,   5.1,   1.8],\n",
            "       [  1. ,  91. ,  17. ,  72. ,  79. ],\n",
            "       [ 41. ,  29. ,  34. ,  44. ,  33. ],\n",
            "       [ 36. ,  80. ,  91. ,  47. ,  20. ],\n",
            "       [ 53. ,  18. ,  20. ,   6. ,   2. ],\n",
            "       [ 45. ,  48. ,  17. ,  55. ,  74. ],\n",
            "       [ 15. ,   5. ,  50. ,  61. ,  70. ],\n",
            "       [ 91. ,  50. ,  37. ,  91. ,  14. ],\n",
            "       [ 61. ,  67. ,  22. ,  52. ,  46. ],\n",
            "       [ 46. ,  71. ,  67. ,   5. ,  63. ],\n",
            "       [  2. ,  35. ,  24. ,  49. ,  43. ],\n",
            "       [ 70. ,  74. ,   5. ,  82. ,  48. ],\n",
            "       [ 39. ,  39. ,  87. ,  73. ,  44. ],\n",
            "       [  5. ,  29. ,   3. ,  68. ,   1. ],\n",
            "       [ 92. ,  73. ,  64. ,  31. ,  55. ],\n",
            "       [ 12. ,  19. ,  45. ,  95. ,  21. ],\n",
            "       [ 63. ,  68. ,  87. ,  10. ,  22. ],\n",
            "       [ 10. ,   9. ,  66. ,  64. ,  94. ],\n",
            "       [ 15. ,  79. ,   2. ,  89. ,  60. ],\n",
            "       [ 32. ,  18. ,  54. ,  69. ,  21. ],\n",
            "       [ 80. ,  31. ,  76. ,  58. ,  62. ],\n",
            "       [ 83. ,  98. ,  80. ,  14. ,  34. ],\n",
            "       [ 31. ,  95. ,  79. ,  71. ,  36. ],\n",
            "       [ 86. ,  38. ,  11. ,  57. ,   9. ],\n",
            "       [ 43. ,  76. ,  40. ,  89. ,  43. ],\n",
            "       [ 63. ,  38. ,  73. ,  70. ,  94. ],\n",
            "       [ 34. ,  18. ,  98. ,  37. ,  83. ],\n",
            "       [ 22. ,  98. ,  93. ,  53. ,  32. ],\n",
            "       [ 84. ,   3. ,  46. ,  79. ,  72. ],\n",
            "       [ 82. ,  88. ,  78. ,  46. ,  66. ],\n",
            "       [ 68. ,   6. ,  61. ,   6. ,  89. ],\n",
            "       [ 65. ,  43. ,  24. ,  18. ,  97. ],\n",
            "       [ 91. ,  95. ,  96. ,  66. ,  22. ],\n",
            "       [ 23. ,  55. ,  54. ,  16. ,  96. ],\n",
            "       [ 73. ,  45. ,  43. ,  38. ,  88. ],\n",
            "       [ 98. ,  94. ,  41. ,  69. ,  31. ],\n",
            "       [ 40. ,  21. ,  52. ,  38. ,  32. ],\n",
            "       [ 77. ,  54. ,  58. ,  27. ,  58. ],\n",
            "       [ 72. ,  31. ,  64. ,  63. ,  22. ],\n",
            "       [ 72. ,  10. ,  39. ,  14. ,  25. ],\n",
            "       [ 10. ,  18. ,  82. ,  98. ,  73. ],\n",
            "       [ 34. ,  25. ,  36. ,  22. ,  59. ],\n",
            "       [ 49. ,  71. ,  76. ,  73. ,  23. ],\n",
            "       [ 38. ,  51. ,  67. ,  36. ,  38. ],\n",
            "       [ 98. ,  72. ,  20. ,  20. ,  77. ],\n",
            "       [ 78. ,   7. ,   7. ,   9. ,  80. ],\n",
            "       [ 38. ,   6. ,  34. ,  19. ,  63. ],\n",
            "       [ 94. ,  52. ,  59. ,   4. ,   2. ],\n",
            "       [  2. ,  94. ,  59. ,  65. ,  83. ],\n",
            "       [ 86. ,  33. ,  25. ,  74. ,  77. ],\n",
            "       [ 75. ,  32. ,  79. ,  87. ,  31. ],\n",
            "       [ 11. ,  56. ,  36. ,  80. ,   9. ]])\n",
            " array([[82., 92., 80., 12., 46.],\n",
            "       [50., 47., 81., 70., 21.],\n",
            "       [18., 79., 20., 57., 60.],\n",
            "       [96., 14., 65., 31., 45.],\n",
            "       [59., 77., 67., 53., 33.],\n",
            "       [71., 14., 46., 71., 18.],\n",
            "       [63., 60., 19., 73., 96.],\n",
            "       [23., 10., 34., 39., 29.],\n",
            "       [66., 19., 63., 59., 49.],\n",
            "       [96., 99., 60., 97., 73.],\n",
            "       [80., 16., 17., 45., 76.],\n",
            "       [61., 76., 77., 55., 69.],\n",
            "       [35.,  4., 39., 25., 44.],\n",
            "       [17., 51., 87.,  8., 28.],\n",
            "       [50., 12., 87., 74., 82.],\n",
            "       [36.,  9., 86., 68., 92.],\n",
            "       [97., 57., 56., 94., 52.],\n",
            "       [75., 10., 99., 85., 28.],\n",
            "       [ 1., 54., 64., 58., 38.],\n",
            "       [73., 48., 80., 10., 13.],\n",
            "       [18., 16., 96., 76., 27.],\n",
            "       [75., 20., 12., 49., 88.],\n",
            "       [20., 18., 36.,  3.,  4.],\n",
            "       [70., 44., 68., 29., 78.],\n",
            "       [12., 45., 82., 18., 12.],\n",
            "       [29., 40., 85., 94., 68.],\n",
            "       [38., 97., 25., 45., 58.],\n",
            "       [53., 99., 76., 74., 18.],\n",
            "       [44., 21., 47., 26., 66.],\n",
            "       [73., 25.,  7., 76., 51.],\n",
            "       [30., 47., 25., 44., 43.],\n",
            "       [41., 87., 20., 11., 41.],\n",
            "       [65., 25., 49., 46., 77.],\n",
            "       [38., 43.,  2., 31., 80.],\n",
            "       [66., 90., 11., 48., 49.],\n",
            "       [75., 14., 25.,  5., 91.],\n",
            "       [ 9., 83., 46., 36., 18.],\n",
            "       [48., 15., 16., 93., 95.],\n",
            "       [94., 50., 82., 10., 20.],\n",
            "       [ 9., 39., 80., 49., 97.],\n",
            "       [20., 47., 88., 97., 39.],\n",
            "       [48., 93., 79., 74., 53.],\n",
            "       [41., 42., 73., 20., 96.],\n",
            "       [30., 13., 31., 11.,  1.],\n",
            "       [92., 11., 34., 18., 66.],\n",
            "       [89., 15., 39., 86., 42.],\n",
            "       [47., 47., 37., 25.,  7.],\n",
            "       [84., 35., 73., 28., 60.],\n",
            "       [36., 37., 27., 17., 96.],\n",
            "       [96., 59., 91., 56., 55.],\n",
            "       [73., 70., 88., 32., 10.],\n",
            "       [72., 90., 75., 46., 15.],\n",
            "       [67., 42., 66., 80., 63.],\n",
            "       [21., 46., 38., 52., 27.],\n",
            "       [67., 59., 42., 60., 93.],\n",
            "       [18., 36., 55., 69., 27.],\n",
            "       [67., 32., 38., 52., 85.],\n",
            "       [76., 38., 41., 20., 69.],\n",
            "       [56., 84., 10., 36.,  3.],\n",
            "       [ 6., 11.,  6., 22., 17.],\n",
            "       [97.,  9.,  9., 83., 64.],\n",
            "       [40., 71., 22., 19., 60.],\n",
            "       [44., 84., 89., 41., 97.],\n",
            "       [91., 30., 91., 90., 14.],\n",
            "       [67., 51., 95., 67., 25.],\n",
            "       [38., 49., 92., 92., 65.],\n",
            "       [18., 93., 60., 79., 75.],\n",
            "       [27., 90., 42., 33., 76.],\n",
            "       [38.,  9., 54., 71.,  8.],\n",
            "       [10., 28., 12., 45., 95.],\n",
            "       [32., 85., 57., 98., 92.],\n",
            "       [48., 37., 79., 93., 86.],\n",
            "       [54., 34.,  9., 55.,  7.],\n",
            "       [45., 63., 43., 11., 64.],\n",
            "       [ 6., 25., 99., 62., 45.],\n",
            "       [85., 57., 99., 85., 64.],\n",
            "       [64., 13., 79., 32., 50.],\n",
            "       [17., 24., 73., 78.,  9.],\n",
            "       [26., 21.,  4., 76., 89.],\n",
            "       [27.,  4., 63., 40., 92.],\n",
            "       [91.,  7., 81., 41., 94.],\n",
            "       [44.,  9., 17., 46.,  1.],\n",
            "       [22., 59., 38., 35., 21.],\n",
            "       [46., 25., 42., 46., 98.],\n",
            "       [14.,  8., 91., 48., 88.],\n",
            "       [40., 74., 64., 32., 13.],\n",
            "       [86., 65., 88., 75., 91.],\n",
            "       [ 6., 29., 12., 94., 35.],\n",
            "       [18., 27., 45., 21., 97.],\n",
            "       [70., 99., 16.,  6.,  9.],\n",
            "       [85., 86., 72., 86., 43.],\n",
            "       [75., 88., 33., 14., 99.],\n",
            "       [ 6.,  6., 81., 75., 62.],\n",
            "       [71., 89., 91., 67., 97.],\n",
            "       [18., 14.,  3., 27., 63.],\n",
            "       [11., 34., 13.,  8., 99.],\n",
            "       [24., 62., 45., 68., 85.],\n",
            "       [39., 40., 71., 90., 34.],\n",
            "       [42., 14., 21., 98., 82.]])]\n",
            "\n",
            "Количество равных NumPy массивов в NumPy массиве составляет: 3\n"
          ],
          "name": "stdout"
        }
      ]
    },
    {
      "cell_type": "markdown",
      "metadata": {
        "id": "z08ODJt78SZw",
        "colab_type": "text"
      },
      "source": [
        "### Задача 3\n",
        "\n",
        "* Найдите все элементы массива my_array, которые больше трех и меньше 5 одновременно. Используйте методологию подвыборки массива с условием (раздел \"Индексация\")."
      ]
    },
    {
      "cell_type": "code",
      "metadata": {
        "id": "zJ1ogO2mANLK",
        "colab_type": "code",
        "outputId": "9e3bbda3-9cb3-4100-a67c-97dcf09bcad3",
        "colab": {
          "base_uri": "https://localhost:8080/",
          "height": 153
        }
      },
      "source": [
        "import numpy as np\n",
        "my_array = np.loadtxt('/content/drive/My Drive/NeuralUniversity/iris.csv', delimiter =  ',', skiprows = 1)\n",
        "print(my_array[(my_array > 3) & (my_array < 5)])\n",
        "\n",
        "# Если вместо & поставить and, то код не сработает"
      ],
      "execution_count": 0,
      "outputs": [
        {
          "output_type": "stream",
          "text": [
            "[3.5 4.9 4.7 3.2 4.6 3.1 4.  3.6 3.9 4.6 3.4 3.4 4.4 4.9 3.1 3.7 4.8 3.4\n",
            " 4.8 4.3 4.  4.4 3.9 3.5 3.8 3.8 3.4 3.7 4.6 3.6 3.3 4.8 3.4 3.4 3.5 3.4\n",
            " 4.7 3.2 4.8 3.1 3.4 4.1 4.2 4.9 3.1 3.2 3.5 4.9 3.6 4.4 3.4 3.5 4.5 4.4\n",
            " 3.2 3.5 3.8 4.8 3.8 4.6 3.2 3.7 3.3 3.2 4.7 3.2 4.5 3.1 4.9 4.  4.6 4.5\n",
            " 3.3 4.7 4.9 3.3 4.6 3.9 3.5 4.2 4.  4.7 3.6 3.1 4.4 4.5 4.1 4.5 3.9 3.2\n",
            " 4.8 4.  4.9 4.7 4.3 4.4 4.8 4.5 3.5 3.8 3.7 3.9 4.5 3.4 4.5 3.1 4.7 4.4\n",
            " 4.1 4.  4.4 4.6 4.  3.3 4.2 4.2 4.2 4.3 4.1 3.3 4.9 4.5 3.6 3.2 3.2 3.8\n",
            " 3.2 4.9 4.9 3.3 3.2 4.8 4.9 3.8 3.4 3.1 4.8 3.1 3.1 3.1 3.2 3.3 3.4]\n"
          ],
          "name": "stdout"
        }
      ]
    },
    {
      "cell_type": "markdown",
      "metadata": {
        "id": "P_O3RZUR8SZ6",
        "colab_type": "text"
      },
      "source": [
        "### Задача 4\n",
        "\n",
        "Создайте трехмерный массив размера 2 на 3 на 4, состоящий из случайных ВЕЩЕСТВЕННЫХ чисел от 15 до 37. Используйте встроенные методы библиотеки  np.random."
      ]
    },
    {
      "cell_type": "code",
      "metadata": {
        "id": "4RFVhGenDvQc",
        "colab_type": "code",
        "outputId": "bbb6b449-27e4-4d82-e665-ebed8531a1c8",
        "colab": {
          "base_uri": "https://localhost:8080/",
          "height": 204
        }
      },
      "source": [
        "import numpy as np\n",
        "# Гугл подсказал такую формулу \"(b - a) * random(...) + a\"\n",
        "array_3d = ((38 - 15) * np.random.random(size = (4,2,3)) + 15)\n",
        "print(array_3d)"
      ],
      "execution_count": 0,
      "outputs": [
        {
          "output_type": "stream",
          "text": [
            "[[[23.10305936 16.41917673 16.10099907]\n",
            "  [21.15148773 25.55122265 24.68847894]]\n",
            "\n",
            " [[36.9936518  23.58577606 19.11318672]\n",
            "  [33.25510363 29.48866167 15.04791254]]\n",
            "\n",
            " [[23.39979657 27.99653775 16.20443602]\n",
            "  [25.21848213 35.06579569 16.49301175]]\n",
            "\n",
            " [[24.58631298 30.41094695 22.08204676]\n",
            "  [35.60225304 18.24889779 22.41541683]]]\n"
          ],
          "name": "stdout"
        }
      ]
    },
    {
      "cell_type": "markdown",
      "metadata": {
        "id": "_8q3NF_k8SaA",
        "colab_type": "text"
      },
      "source": [
        "### Задача 5\n",
        "\n",
        "Используя массив из предыдущей задачи, преобразуйте его в новый массив со следующими значениями:\n",
        "\n",
        "    * \"small\", если значения меньше 20\n",
        "    * \"medium\", если значения в промежутке [20, 30]\n",
        "    * \"large\", если значения больше 30"
      ]
    },
    {
      "cell_type": "code",
      "metadata": {
        "id": "_OFivX2Wa_LP",
        "colab_type": "code",
        "outputId": "93937663-38f0-45c1-d32c-e3a2f0fe35e8",
        "colab": {
          "base_uri": "https://localhost:8080/",
          "height": 204
        }
      },
      "source": [
        "import numpy as np\n",
        "\n",
        "array_3d = ((38 - 15) * np.random.random(size = (4,2,3)) + 15)\n",
        "\n",
        "# Маски для фильтрации элементов\n",
        "small_mask = array_3d < 20\n",
        "medium_mask = (array_3d >= 20) & (array_3d <=30)\n",
        "large_mask = array_3d > 30\n",
        "\n",
        "# Замена найденных элементов специальным значением\n",
        "array_3d[small_mask] = 1.111112222233333\n",
        "array_3d[medium_mask] = 2.222223333344444\n",
        "array_3d[large_mask] = 3.333334444455555\n",
        "\n",
        "# Замена специальных значений на 'small', 'medium', 'large'\n",
        "new_array = array_3d.astype('<U32')\n",
        "new_array[new_array == '1.111112222233333'] = 'small'\n",
        "new_array[new_array == '2.222223333344444'] = 'medium'\n",
        "new_array[new_array == '3.333334444455555'] = 'large'\n",
        "\n",
        "print(new_array)"
      ],
      "execution_count": 0,
      "outputs": [
        {
          "output_type": "stream",
          "text": [
            "[[['small' 'medium' 'large']\n",
            "  ['medium' 'large' 'large']]\n",
            "\n",
            " [['large' 'small' 'small']\n",
            "  ['large' 'medium' 'large']]\n",
            "\n",
            " [['large' 'medium' 'large']\n",
            "  ['large' 'large' 'large']]\n",
            "\n",
            " [['small' 'small' 'small']\n",
            "  ['small' 'large' 'medium']]]\n"
          ],
          "name": "stdout"
        }
      ]
    },
    {
      "cell_type": "markdown",
      "metadata": {
        "id": "hOhMOcs18SaF",
        "colab_type": "text"
      },
      "source": [
        "### Задача 6\n",
        "\n",
        "Создайте одномерный массив из случайных 10 значений. \n",
        "\n",
        "* Не используя цикл for, найдите сумму значений с 3 по 7 элемент.\n",
        "* Найдите сумму квадратов последних двух элементов."
      ]
    },
    {
      "cell_type": "code",
      "metadata": {
        "id": "aNeYhqISgBtb",
        "colab_type": "code",
        "outputId": "f9aeb25f-f64c-4b46-e863-432240fd9e99",
        "colab": {
          "base_uri": "https://localhost:8080/",
          "height": 102
        }
      },
      "source": [
        "import numpy as np\n",
        "\n",
        "i = np.random.randint(30,50,10)\n",
        "print(i)\n",
        "print('Значения с 3 по 7 элемент: ', i[2:7])\n",
        "print('Сумма значений с 3 по 7 элемент:', i[2:7].sum())\n",
        "print('Последние 2 элемента: ', i[-2:])\n",
        "print('Сумма квадратов последний 2-ух элементов:', (i[-1] ** 2) + (i[-2] ** 2))"
      ],
      "execution_count": 0,
      "outputs": [
        {
          "output_type": "stream",
          "text": [
            "[37 48 38 34 43 36 35 48 33 44]\n",
            "Значения с 3 по 7 элемент:  [38 34 43 36 35]\n",
            "Сумма значений с 3 по 7 элемент: 186\n",
            "Последние 2 элемента:  [33 44]\n",
            "Сумма квадратов последний 2-ух элементов: 3025\n"
          ],
          "name": "stdout"
        }
      ]
    }
  ]
}