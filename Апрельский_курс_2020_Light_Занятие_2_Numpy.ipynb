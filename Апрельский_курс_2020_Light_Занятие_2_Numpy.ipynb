{
  "nbformat": 4,
  "nbformat_minor": 0,
  "metadata": {
    "kernelspec": {
      "display_name": "Python 3",
      "language": "python",
      "name": "python3"
    },
    "language_info": {
      "codemirror_mode": {
        "name": "ipython",
        "version": 3
      },
      "file_extension": ".py",
      "mimetype": "text/x-python",
      "name": "python",
      "nbconvert_exporter": "python",
      "pygments_lexer": "ipython3",
      "version": "3.6.8"
    },
    "colab": {
      "name": "Copy of Апрельский курс-2020 Light. Занятие 2. Numpy",
      "provenance": [],
      "collapsed_sections": [
        "k7o1YfhczkKR",
        "925upZABzkNS",
        "LrLBflWAzkTd",
        "wPpt1J0hzkTq",
        "NFth5t1IzkZU",
        "fkhgXy-3zkfF",
        "aeggEjNhzkj5",
        "C9FKdEnrzklW",
        "b4UmXd1Kzknu",
        "AjtoLgd-zkvT",
        "Y2_Fa3GLzkwu",
        "ryzPlVHlzkxA"
      ],
      "include_colab_link": true
    }
  },
  "cells": [
    {
      "cell_type": "markdown",
      "metadata": {
        "id": "view-in-github",
        "colab_type": "text"
      },
      "source": [
        "<a href=\"https://colab.research.google.com/github/Justmove08/Lesson_1/blob/master/%D0%90%D0%BF%D1%80%D0%B5%D0%BB%D1%8C%D1%81%D0%BA%D0%B8%D0%B9_%D0%BA%D1%83%D1%80%D1%81_2020_Light_%D0%97%D0%B0%D0%BD%D1%8F%D1%82%D0%B8%D0%B5_2_Numpy.ipynb\" target=\"_parent\"><img src=\"https://colab.research.google.com/assets/colab-badge.svg\" alt=\"Open In Colab\"/></a>"
      ]
    },
    {
      "cell_type": "markdown",
      "metadata": {
        "id": "E9ChODg2zkJV",
        "colab_type": "text"
      },
      "source": [
        "# Библиотека NumPy\n",
        "\n",
        "*Разбор данного раздела:* https://youtu.be/dOKU4sDTcvo?t=808\n",
        "\n",
        "NumPy - векторные/научные вычисления. Пакет содержит функциональные средства для работы с многомерными массивами и высокоуровневыми математическими функциями.\n",
        "\n",
        "Справочные материалы по numpy: https://pythonworld.ru/numpy"
      ]
    },
    {
      "cell_type": "markdown",
      "metadata": {
        "id": "JJeKd0vGzkJh",
        "colab_type": "text"
      },
      "source": [
        "Импортирование библиотеки:"
      ]
    },
    {
      "cell_type": "code",
      "metadata": {
        "id": "SkVigyK3zkJr",
        "colab_type": "code",
        "colab": {}
      },
      "source": [
        "import numpy as np # Подключаем библиотеку numpy и задаем ей псевдоним np"
      ],
      "execution_count": 0,
      "outputs": []
    },
    {
      "cell_type": "markdown",
      "metadata": {
        "id": "k7o1YfhczkKR",
        "colab_type": "text"
      },
      "source": [
        "### 1. Структура np.ndarray\n",
        "\n",
        "*Разбор данного раздела:* https://youtu.be/dOKU4sDTcvo?t=943\n",
        "\n",
        "\n",
        "np.ndarray - это массив, содержащий элементы **одного типа**. \n",
        "\n",
        "Давайте посмотрим, что это значит:"
      ]
    },
    {
      "cell_type": "code",
      "metadata": {
        "id": "OsyJKygIzkKY",
        "colab_type": "code",
        "colab": {}
      },
      "source": [
        "my_list1 = [2, 4, 5] # Создаем переменную my_list1 и записываем в нее список из трех значений\n",
        "print (my_list1) # Выводим на экран созданный список\n",
        "print (type(my_list1)) # Выводим на экран тип переменной my_list1"
      ],
      "execution_count": 0,
      "outputs": []
    },
    {
      "cell_type": "code",
      "metadata": {
        "id": "c_0_L0AczkK3",
        "colab_type": "code",
        "colab": {}
      },
      "source": [
        "my_numpy1 = np.array(my_list1) # Создаем numpy-массив из списка my_list1\n",
        "print(my_numpy1) # Выводим на экран созданный numpy-массив\n",
        "print(type(my_numpy1)) # Выводим на экран тип переменной my_numpy1\n",
        "print(my_numpy1.dtype) # Выводим на экран тип элементов массива my_numpy1"
      ],
      "execution_count": 0,
      "outputs": []
    },
    {
      "cell_type": "code",
      "metadata": {
        "id": "hm9M-T93zkLT",
        "colab_type": "code",
        "colab": {}
      },
      "source": [
        "my_list2 = [2, 3.14] # Создаем переменную my_list_float и записываем в нее список из двух значений (типа int и типа float)\n",
        "my_numpy2 = np.array(my_list2) #  Создаем numpy-массив из списка my_list2\n",
        "print(my_numpy2.dtype)  # Выводим на экран тип элементов массива my_numpy2"
      ],
      "execution_count": 0,
      "outputs": []
    },
    {
      "cell_type": "code",
      "metadata": {
        "id": "WoVA6pMWL6mF",
        "colab_type": "code",
        "colab": {}
      },
      "source": [
        "print(my_list2) # Выводим на экран созданный список my_list2\n",
        "print(my_numpy2) # Выводим на экран созданный массив my_numpy2"
      ],
      "execution_count": 0,
      "outputs": []
    },
    {
      "cell_type": "code",
      "metadata": {
        "id": "lT40BgvRzkLw",
        "colab_type": "code",
        "colab": {}
      },
      "source": [
        "my_list3 = [2, 3.14, 'text data'] # Создаем переменную my_list2 и записываем в нее список из трех значений (типа int, типа float и типа str)\n",
        "my_numpy3 = np.array(my_list3) # Создаем numpy-массив из списка my_list3\n",
        "print(my_list3) # Выводим на экран созданный список my_list3\n",
        "print(my_numpy3) # Выводим на экран созданный массив my_numpy3\n",
        "print(my_numpy3.dtype) # Выводим на экран тип элементов массва my_numpy3"
      ],
      "execution_count": 0,
      "outputs": []
    },
    {
      "cell_type": "code",
      "metadata": {
        "id": "78Bj6ZqwzkMM",
        "colab_type": "code",
        "colab": {}
      },
      "source": [
        "my_list4 = [2, 3.14, 'text data', [2,3,4]] # Создаем переменную my_list4 и записываем в нее список из четырех значений (типа int, типа float, типа str  и список)\n",
        "print(my_list4) # Выводим на экран созданный список my_list4"
      ],
      "execution_count": 0,
      "outputs": []
    },
    {
      "cell_type": "code",
      "metadata": {
        "id": "t06Ka9lwQl4I",
        "colab_type": "code",
        "colab": {}
      },
      "source": [
        "my_numpy4 = np.array(my_list4) # Создаем numpy-массив из списка my_list3\n",
        "print(my_numpy4) # Выводим на экран созданный массив my_numpy4\n",
        "print(my_numpy4.dtype) # Выводим на экран тип элементов массива my_numpy4"
      ],
      "execution_count": 0,
      "outputs": []
    },
    {
      "cell_type": "code",
      "metadata": {
        "id": "Lfm8dLdNzkMw",
        "colab_type": "code",
        "colab": {}
      },
      "source": [
        "my_numpy5 = np.array([2, 3.14, 'text data', [2, 4, 5]], dtype='object') # Создаем numpy-массив из списка и указываем тип элементов - 'object'\n",
        "print(my_numpy5) # Выводим на экран созданный массив my_numpy5\n",
        "print(my_numpy5.dtype) # Выводим на экран тип элементов массива my_numpy5"
      ],
      "execution_count": 0,
      "outputs": []
    },
    {
      "cell_type": "code",
      "metadata": {
        "id": "qBpkCfn5NYBG",
        "colab_type": "code",
        "colab": {}
      },
      "source": [
        "my_numpy6 = np.array([2, 3.14, 'text data', [2, 4, 5]], dtype='int64') # Создаем numpy-массив из списка и указываем тип элементов - 'int'"
      ],
      "execution_count": 0,
      "outputs": []
    },
    {
      "cell_type": "code",
      "metadata": {
        "id": "jVxfyT48OXvm",
        "colab_type": "code",
        "colab": {}
      },
      "source": [
        "my_numpy7 = np.array([2, 3.14], dtype='int64') # Создаем numpy-массив из списка и указываем тип элементов - 'int'\n",
        "print(my_numpy7) # Выводим на экран созданный массив my_numpy5\n",
        "print(my_numpy7.dtype) # Выводим на экран тип элементов массива my_numpy5"
      ],
      "execution_count": 0,
      "outputs": []
    },
    {
      "cell_type": "markdown",
      "metadata": {
        "id": "925upZABzkNS",
        "colab_type": "text"
      },
      "source": [
        "### 2. Типы данных\n",
        "\n",
        "*Разбор данного раздела:* https://youtu.be/dOKU4sDTcvo?t=1513\n",
        "\n",
        "\n",
        "В NumPy реализованы свои типы данных, которые отличаются от встроенных в Python.\n",
        "\n",
        "Подробнее о типах: https://docs.scipy.org/doc/numpy/user/basics.types.html\n",
        "\n",
        "Например, встроенный тип int ничем не ограничен (кроме вашей памяти). Целые числа в numpy имеют фиксированный размер: np.int8, np.int16...\n",
        "\n",
        "Другое различие кроется во встроенных методах:"
      ]
    },
    {
      "cell_type": "code",
      "metadata": {
        "id": "rczIuSjjzkNY",
        "colab_type": "code",
        "colab": {}
      },
      "source": [
        "value = -167 # Создаем переменную value и записываем в нее значение\n",
        "numpy_value = np.uint8(value) # Преобразуем переменную value к типу np.uint8"
      ],
      "execution_count": 0,
      "outputs": []
    },
    {
      "cell_type": "code",
      "metadata": {
        "id": "9Ym3FrLBzkNu",
        "colab_type": "code",
        "colab": {}
      },
      "source": [
        "print(value) # Выводим на экран значение переменной value"
      ],
      "execution_count": 0,
      "outputs": []
    },
    {
      "cell_type": "code",
      "metadata": {
        "id": "XnAAetu0zkPW",
        "colab_type": "code",
        "colab": {}
      },
      "source": [
        "print(numpy_value) # Выводим на экран значение переменной numpy_value"
      ],
      "execution_count": 0,
      "outputs": []
    },
    {
      "cell_type": "code",
      "metadata": {
        "id": "d3WSRnDpzkQh",
        "colab_type": "code",
        "colab": {}
      },
      "source": [
        "print(type(value)) # Выводим на экран тип переменной value"
      ],
      "execution_count": 0,
      "outputs": []
    },
    {
      "cell_type": "code",
      "metadata": {
        "id": "Noboyp83zkRc",
        "colab_type": "code",
        "colab": {}
      },
      "source": [
        "print(type(numpy_value)) # Выводим на экран тип переменной numpy_value"
      ],
      "execution_count": 0,
      "outputs": []
    },
    {
      "cell_type": "markdown",
      "metadata": {
        "id": "LrLBflWAzkTd",
        "colab_type": "text"
      },
      "source": [
        "### 3. Одномерные массивы"
      ]
    },
    {
      "cell_type": "markdown",
      "metadata": {
        "id": "wPpt1J0hzkTq",
        "colab_type": "text"
      },
      "source": [
        "#### Одномерные numpy массивы\n",
        "\n",
        "*Разбор данного раздела:* https://youtu.be/dOKU4sDTcvo?t=1947\n"
      ]
    },
    {
      "cell_type": "code",
      "metadata": {
        "id": "V41MALm5zkT9",
        "colab_type": "code",
        "colab": {}
      },
      "source": [
        "numpy_digital = np.array([1, 2, 3, 4, 5]) # Создаем numpy-массив из списка цифр"
      ],
      "execution_count": 0,
      "outputs": []
    },
    {
      "cell_type": "code",
      "metadata": {
        "id": "pHidHr6bzkUw",
        "colab_type": "code",
        "colab": {}
      },
      "source": [
        "numpy_str = np.array(['cat', 'mouse', 'dog', 'rat']) # Создаем numpy-массив из списка слов "
      ],
      "execution_count": 0,
      "outputs": []
    },
    {
      "cell_type": "code",
      "metadata": {
        "id": "VMll2qtYzkVB",
        "colab_type": "code",
        "colab": {}
      },
      "source": [
        "print(numpy_digital.dtype) # Выводим на экран тип элементов массива numpy_digital"
      ],
      "execution_count": 0,
      "outputs": []
    },
    {
      "cell_type": "code",
      "metadata": {
        "id": "ANIFml-azkVh",
        "colab_type": "code",
        "colab": {}
      },
      "source": [
        "print(numpy_str.dtype) # Выводим на экран тип элементов массива numpy_str"
      ],
      "execution_count": 0,
      "outputs": []
    },
    {
      "cell_type": "code",
      "metadata": {
        "id": "675X1EPPzkV8",
        "colab_type": "code",
        "colab": {}
      },
      "source": [
        "print(numpy_digital.shape) # Выводим на экран размерность массива numpy_digital"
      ],
      "execution_count": 0,
      "outputs": []
    },
    {
      "cell_type": "code",
      "metadata": {
        "id": "VoT8RQ0lPXKF",
        "colab_type": "code",
        "colab": {}
      },
      "source": [
        "print(numpy_str.shape) # Выводим на экран размерность массива numpy_str"
      ],
      "execution_count": 0,
      "outputs": []
    },
    {
      "cell_type": "code",
      "metadata": {
        "id": "IjtJVWhwzkWv",
        "colab_type": "code",
        "colab": {}
      },
      "source": [
        "print(numpy_digital.size) # Выводим на экран количество элементов массива numpy_digital"
      ],
      "execution_count": 0,
      "outputs": []
    },
    {
      "cell_type": "code",
      "metadata": {
        "id": "fHXfcBrrzkXb",
        "colab_type": "code",
        "colab": {}
      },
      "source": [
        "numpy_digital2 = np.array([1, 2, 3, 4, 5, 6]) # Создаем numpy-массив из списка цифр\n",
        "print(numpy_digital2) # Выводим на экран массив numpy_digital\n",
        "print(numpy_digital2.shape) # Выводим на экран размерность массива numpy_digital"
      ],
      "execution_count": 0,
      "outputs": []
    },
    {
      "cell_type": "code",
      "metadata": {
        "id": "82WeJ5kwzkYY",
        "colab_type": "code",
        "colab": {}
      },
      "source": [
        "numpy_new = numpy_digital2.reshape((3, 2)) # Изменяем размерность массива numpy_digital2 из (6,) -> (3, 2)\n",
        "print(numpy_new) # Выводим на экран массив numpy_new\n",
        "print(numpy_new.shape) # Выводим на экран размерность массива numpy_new\n",
        "print(numpy_new.size) # Выводим на экран количество элементов массива numpy_new"
      ],
      "execution_count": 0,
      "outputs": []
    },
    {
      "cell_type": "code",
      "metadata": {
        "id": "bQ7LjBX4P2Yl",
        "colab_type": "code",
        "colab": {}
      },
      "source": [
        "numpy_new2 = numpy_digital2.reshape((2, 3)) # Изменяем размерность массива numpy_digital2 из (6,) -> (2, 3)\n",
        "print(numpy_new2) # Выводим на экран массив numpy_new2\n",
        "print(numpy_new2.shape) # Выводим на экран размерность массива numpy_new2\n",
        "print(numpy_new2.size) # Выводим на экран количество элементов массива numpy_new2"
      ],
      "execution_count": 0,
      "outputs": []
    },
    {
      "cell_type": "code",
      "metadata": {
        "id": "igGGkBAoQA9q",
        "colab_type": "code",
        "colab": {}
      },
      "source": [
        "numpy_new3 = numpy_digital2.reshape((1, 6)) # Изменяем размерность массива numpy_digital2 из (6,) -> (1, 6)\n",
        "print(numpy_new3) # Выводим на экран массив numpy_new3\n",
        "print(numpy_new3.shape) # Выводим на экран размерность массива numpy_new3\n",
        "print(numpy_new3.size) # Выводим на экран количество элементов массива numpy_new3"
      ],
      "execution_count": 0,
      "outputs": []
    },
    {
      "cell_type": "code",
      "metadata": {
        "id": "Ye8UKfqfQDMs",
        "colab_type": "code",
        "colab": {}
      },
      "source": [
        "print(numpy_digital2) # Выводим на экран массив numpy_new\n",
        "print(numpy_digital2.shape) # Выводим на экран размерность массива numpy_new\n",
        "print(numpy_digital2.size) # Выводим на экран количество элементов массива numpy_new"
      ],
      "execution_count": 0,
      "outputs": []
    },
    {
      "cell_type": "code",
      "metadata": {
        "id": "lJa5jICiYppC",
        "colab_type": "code",
        "colab": {}
      },
      "source": [
        "print(numpy_digital) # Выводим на экран массив numpy_new\n",
        "print(numpy_digital.shape) # Выводим на экран размерность массива numpy_digital"
      ],
      "execution_count": 0,
      "outputs": []
    },
    {
      "cell_type": "code",
      "metadata": {
        "id": "JYT39VhYRKR7",
        "colab_type": "code",
        "colab": {}
      },
      "source": [
        "numpy_new4 = numpy_digital.reshape((2, 3)) # Изменяем размерность массива numpy_digital из (5,) -> (2, 3)"
      ],
      "execution_count": 0,
      "outputs": []
    },
    {
      "cell_type": "markdown",
      "metadata": {
        "id": "NFth5t1IzkZU",
        "colab_type": "text"
      },
      "source": [
        "#### Индексация\n",
        "\n",
        "*Разбор данного раздела:* https://youtu.be/dOKU4sDTcvo?t=2568\n"
      ]
    },
    {
      "cell_type": "code",
      "metadata": {
        "id": "ZUGqIMCjzkZY",
        "colab_type": "code",
        "colab": {}
      },
      "source": [
        "numpy_new5 = np.array([102,123,33,54,25,136]) # Создаем numpy-массив из списка цифр\n",
        "print(numpy_new5) # Выводим на экран массив numpy_new5"
      ],
      "execution_count": 0,
      "outputs": []
    },
    {
      "cell_type": "code",
      "metadata": {
        "id": "wvTCNtY3zkat",
        "colab_type": "code",
        "colab": {}
      },
      "source": [
        "print(numpy_new5[0]) # Выводим на экран нулевой элемент массива numpy_new5"
      ],
      "execution_count": 0,
      "outputs": []
    },
    {
      "cell_type": "code",
      "metadata": {
        "id": "PwCpYv_rzkbq",
        "colab_type": "code",
        "colab": {}
      },
      "source": [
        "print(numpy_new5[1]) # Выводим на экран первый элемент массива numpy_new5"
      ],
      "execution_count": 0,
      "outputs": []
    },
    {
      "cell_type": "code",
      "metadata": {
        "id": "v4Kk-4_3zkcR",
        "colab_type": "code",
        "colab": {}
      },
      "source": [
        "print(numpy_new5[-1]) # Выводим на экран последний (минус первый) элемент массива numpy_new5"
      ],
      "execution_count": 0,
      "outputs": []
    },
    {
      "cell_type": "code",
      "metadata": {
        "id": "MM2QzoDzzkdJ",
        "colab_type": "code",
        "colab": {}
      },
      "source": [
        "print(numpy_new5[:]) # Выводим на экран все элементы массива numpy_new5"
      ],
      "execution_count": 0,
      "outputs": []
    },
    {
      "cell_type": "code",
      "metadata": {
        "id": "TN3eR6BdYjdg",
        "colab_type": "code",
        "colab": {}
      },
      "source": [
        "print(numpy_new5[1:]) # Выводим на экран все элементы массива numpy_new5, начиная с первого"
      ],
      "execution_count": 0,
      "outputs": []
    },
    {
      "cell_type": "code",
      "metadata": {
        "id": "6XmBq7kmYq9l",
        "colab_type": "code",
        "colab": {}
      },
      "source": [
        "print(numpy_new5[:3]) # Выводим на экран с нулевого по третий элементы массива numpy_new5"
      ],
      "execution_count": 0,
      "outputs": []
    },
    {
      "cell_type": "code",
      "metadata": {
        "id": "2cjQ4ZhEY_69",
        "colab_type": "code",
        "colab": {}
      },
      "source": [
        "print(numpy_new5[-2:]) # Выводим на экран все элементы массива numpy_new5, начиная с предпоследнего"
      ],
      "execution_count": 0,
      "outputs": []
    },
    {
      "cell_type": "code",
      "metadata": {
        "id": "FFpnr4Igzkd4",
        "colab_type": "code",
        "colab": {}
      },
      "source": [
        "print(numpy_new5[1:4]) # Выводим на экран с первого по четвертый элемент массива numpy_new5"
      ],
      "execution_count": 0,
      "outputs": []
    },
    {
      "cell_type": "code",
      "metadata": {
        "id": "CJWaNQCjv1ws",
        "colab_type": "code",
        "colab": {}
      },
      "source": [
        "print(numpy_new5 > 55) # Выводим маску массива numpy_new5 для условия: значение элемента больше 55"
      ],
      "execution_count": 0,
      "outputs": []
    },
    {
      "cell_type": "code",
      "metadata": {
        "id": "qDAzKBhdzkea",
        "colab_type": "code",
        "colab": {}
      },
      "source": [
        "print(numpy_new5[(numpy_new5 > 25) & (numpy_new5 < 67)]) # Производим подвыборку элементов массива, значения которых больше 25 и меньше 67"
      ],
      "execution_count": 0,
      "outputs": []
    },
    {
      "cell_type": "code",
      "metadata": {
        "id": "T-TlCpLaxFXl",
        "colab_type": "code",
        "colab": {}
      },
      "source": [
        "arr1 = np.array([2, 3, 12]) # Создаем numpy-массива из списка\n",
        "arr2 = np.array([i for i in range(7)]) # Создаем numpy-массив с помощью генератора цикла\n",
        "\n",
        "print(arr1) # Выводим массив arr1\n",
        "print(arr2) # Выводим массив arr2"
      ],
      "execution_count": 0,
      "outputs": []
    },
    {
      "cell_type": "code",
      "metadata": {
        "id": "tjVL5tgVb-zt",
        "colab_type": "code",
        "colab": {}
      },
      "source": [
        "mask = np.array([(i in lst2) for i in lst1]) # Создаем маску для массива arr1 по наличию элемента в массиве arr2\n",
        "\n",
        "print(mask) # Выводим маску "
      ],
      "execution_count": 0,
      "outputs": []
    },
    {
      "cell_type": "code",
      "metadata": {
        "id": "zgZme6FobrnD",
        "colab_type": "code",
        "colab": {}
      },
      "source": [
        "[i for i in range(7)]"
      ],
      "execution_count": 0,
      "outputs": []
    },
    {
      "cell_type": "markdown",
      "metadata": {
        "id": "fkhgXy-3zkfF",
        "colab_type": "text"
      },
      "source": [
        "#### Встроенные методы\n",
        "\n",
        "*Разбор данного раздела:* https://youtu.be/dOKU4sDTcvo?t=3108\n"
      ]
    },
    {
      "cell_type": "markdown",
      "metadata": {
        "id": "gV742wB-zkfJ",
        "colab_type": "text"
      },
      "source": [
        "чтобы увидеть все доступные методы, после точки нажмите \"Tab\""
      ]
    },
    {
      "cell_type": "code",
      "metadata": {
        "id": "QMGNr6JYzkfM",
        "colab_type": "code",
        "colab": {}
      },
      "source": [
        "numpy_array = np.array([1,2,3,4,5,6,7,8,10]) # Создаем numpy-массив из целых чисел\n",
        "print(numpy_array) # Выводим на экран массив numpu_array"
      ],
      "execution_count": 0,
      "outputs": []
    },
    {
      "cell_type": "code",
      "metadata": {
        "id": "eH8LzxCNzkff",
        "colab_type": "code",
        "colab": {}
      },
      "source": [
        "print(numpy_array.sum()) # Выводим на экран сумму всех элементов массива numpy_array"
      ],
      "execution_count": 0,
      "outputs": []
    },
    {
      "cell_type": "code",
      "metadata": {
        "id": "WauQX4-wzkgY",
        "colab_type": "code",
        "colab": {}
      },
      "source": [
        "print(numpy_array.mean()) # Выводим на экран среднее значение всех элементов массива numpy_array"
      ],
      "execution_count": 0,
      "outputs": []
    },
    {
      "cell_type": "code",
      "metadata": {
        "id": "gV2WNNlczkgq",
        "colab_type": "code",
        "colab": {}
      },
      "source": [
        "print(numpy_array.max()) # Выводим на экран максимальный элемент массива numpy_array"
      ],
      "execution_count": 0,
      "outputs": []
    },
    {
      "cell_type": "code",
      "metadata": {
        "id": "jAEE26SozkhO",
        "colab_type": "code",
        "colab": {}
      },
      "source": [
        "print(numpy_array.min()) # Выводим на экран минимальный элемент массива numpy_array"
      ],
      "execution_count": 0,
      "outputs": []
    },
    {
      "cell_type": "code",
      "metadata": {
        "id": "AwcpEyAXzkhc",
        "colab_type": "code",
        "colab": {}
      },
      "source": [
        "print(numpy_array.prod()) # Выводим на экран произведение всех элементов массива numpy_array"
      ],
      "execution_count": 0,
      "outputs": []
    },
    {
      "cell_type": "code",
      "metadata": {
        "id": "RC_GCKINzkhr",
        "colab_type": "code",
        "colab": {}
      },
      "source": [
        "str_array = np.array(['Один', 'Два','Три','Четыре']) # Создаем numpy-массив из четырех строковых значений\n",
        "print(str_array) # Выводим на экран массив str_array"
      ],
      "execution_count": 0,
      "outputs": []
    },
    {
      "cell_type": "code",
      "metadata": {
        "id": "DoVqk1yezkiD",
        "colab_type": "code",
        "colab": {}
      },
      "source": [
        "str_array.sort() # Сортируем массив str_array\n",
        "print(str_array) # Выводим на экран массив str_array"
      ],
      "execution_count": 0,
      "outputs": []
    },
    {
      "cell_type": "code",
      "metadata": {
        "id": "nyRmGTc6eawB",
        "colab_type": "code",
        "colab": {}
      },
      "source": [
        "my_type = [('city', '<U32'), ('region', np.int32)] # Создадим список, где укажем тип данных будущего массива\n",
        "values = [('Москва', 99), ('Пенза', 58), ('Рязань', 62)] # Создадим список со значениями будущего массива\n",
        "regions = np.array(values, dtype=my_type) # Создаем numpy-массива из указанных значений и задаем тип данных для каждого столбца\n",
        "print(regions) # Выводим на экрам массив regions"
      ],
      "execution_count": 0,
      "outputs": []
    },
    {
      "cell_type": "code",
      "metadata": {
        "id": "b1aJOg8vf7XX",
        "colab_type": "code",
        "colab": {}
      },
      "source": [
        "regions['city'] # Обращаемся к столбцу массива по заданному имени"
      ],
      "execution_count": 0,
      "outputs": []
    },
    {
      "cell_type": "code",
      "metadata": {
        "id": "SNBTWGS2zkid",
        "colab_type": "code",
        "colab": {}
      },
      "source": [
        "%%timeit\n",
        "numpy_array.sum() # Считаем сумму элементов массива numpy_array и смотрим на время выполнения операции с помощью магической команды timeit"
      ],
      "execution_count": 0,
      "outputs": []
    },
    {
      "cell_type": "code",
      "metadata": {
        "id": "P5WZP8rmzkiv",
        "colab_type": "code",
        "colab": {}
      },
      "source": [
        "%%timeit\n",
        "numpy_array.mean() # Считаем среднее значение элементов массива numpy_array и смотрим на время выполнения операции с помощью магической команды timeit"
      ],
      "execution_count": 0,
      "outputs": []
    },
    {
      "cell_type": "code",
      "metadata": {
        "id": "BRZkRD8kzkjK",
        "colab_type": "code",
        "colab": {}
      },
      "source": [
        "%%timeit\n",
        "numpy_array.sum()\n",
        "numpy_array.mean()"
      ],
      "execution_count": 0,
      "outputs": []
    },
    {
      "cell_type": "code",
      "metadata": {
        "id": "mvwPh0YjzkjW",
        "colab_type": "code",
        "colab": {}
      },
      "source": [
        "# Задаем параметры \n",
        "## n - кол-во циклов повторений\n",
        "## r - кол-во повторений в одном цикле"
      ],
      "execution_count": 0,
      "outputs": []
    },
    {
      "cell_type": "code",
      "metadata": {
        "id": "fpol-WcAzkjg",
        "colab_type": "code",
        "colab": {}
      },
      "source": [
        "%%timeit -n 5 -r 10\n",
        "numpy_array.sum()"
      ],
      "execution_count": 0,
      "outputs": []
    },
    {
      "cell_type": "markdown",
      "metadata": {
        "id": "aeggEjNhzkj5",
        "colab_type": "text"
      },
      "source": [
        "#### Операции с массивами\n",
        "\n",
        "*Разбор данного раздела:* https://youtu.be/dOKU4sDTcvo?t=3834\n"
      ]
    },
    {
      "cell_type": "code",
      "metadata": {
        "id": "KTfz6S9KzkkC",
        "colab_type": "code",
        "colab": {}
      },
      "source": [
        "numpy_10 = np.arange(5) # Создаем numpy-массив из последовательности элементов от 0 до 4 (5 не включается)\n",
        "print(numpy_10) # Выводим на экран массив numpy_10"
      ],
      "execution_count": 0,
      "outputs": []
    },
    {
      "cell_type": "code",
      "metadata": {
        "id": "l5UOE6JrzkkU",
        "colab_type": "code",
        "colab": {}
      },
      "source": [
        "numpy_11 = np.arange(3, 6) # Создаем numpy-массив из последовательности элементов от 3 до 5 (6 не включается)\n",
        "print(numpy_11) # Выводим на экран массив numpy_11"
      ],
      "execution_count": 0,
      "outputs": []
    },
    {
      "cell_type": "code",
      "metadata": {
        "id": "4bNYF87Qzkkh",
        "colab_type": "code",
        "colab": {}
      },
      "source": [
        "numpy_12 = np.arange(3, 16, 4) # Создаем numpy-массив из последовательности элементов от 3 до 15 с шагом 4\n",
        "print(numpy_12) # Выводим на экран массив numpy_12"
      ],
      "execution_count": 0,
      "outputs": []
    },
    {
      "cell_type": "markdown",
      "metadata": {
        "id": "C9FKdEnrzklW",
        "colab_type": "text"
      },
      "source": [
        "#### Векторные операции\n",
        "\n",
        "*Разбор данного раздела:* https://youtu.be/dOKU4sDTcvo?t=3916"
      ]
    },
    {
      "cell_type": "code",
      "metadata": {
        "id": "gvl9s6jFzklY",
        "colab_type": "code",
        "colab": {}
      },
      "source": [
        "my_list1 = [0,1,2,3,4,5] # Создаем список из 5 элементов\n",
        "my_list2 = [6,7,8,9,10,11] # Создаем еще один список также из 5 элементов\n",
        "my_numpy1 = np.array(my_list1) # Создаем массив из списка my_list1\n",
        "my_numpy2 = np.array(my_list2) # Создаем массив из списка my_list2\n",
        "print(my_list1 + my_list2) # Выводим результат сложения двух списков\n",
        "print(my_numpy1 + my_numpy2) # Выводим результат сложения двух массивов"
      ],
      "execution_count": 0,
      "outputs": []
    },
    {
      "cell_type": "code",
      "metadata": {
        "id": "KMfJmZZ3zklk",
        "colab_type": "code",
        "colab": {}
      },
      "source": [
        "print(my_numpy1 - my_numpy2) # Выводим разность двух массивов"
      ],
      "execution_count": 0,
      "outputs": []
    },
    {
      "cell_type": "code",
      "metadata": {
        "id": "RY70Vu3KOyBI",
        "colab_type": "code",
        "colab": {}
      },
      "source": [
        "print(my_list1 - my_list2) # Выводим рвзность двух списков"
      ],
      "execution_count": 0,
      "outputs": []
    },
    {
      "cell_type": "code",
      "metadata": {
        "id": "ti4rEgUizklw",
        "colab_type": "code",
        "colab": {}
      },
      "source": [
        "print(my_numpy1 / my_numpy2) # Выводим частное двух массивов"
      ],
      "execution_count": 0,
      "outputs": []
    },
    {
      "cell_type": "code",
      "metadata": {
        "id": "Hj_cyy5BzkmA",
        "colab_type": "code",
        "colab": {}
      },
      "source": [
        "# обратите внимание, что python нормально обработал деление на ноль\n",
        "## inf - infinite value, бесконочность\n",
        "print(my_numpy2 / my_numpy1) # Выводим частное двух массивов"
      ],
      "execution_count": 0,
      "outputs": []
    },
    {
      "cell_type": "code",
      "metadata": {
        "id": "CEcKqysHzkmK",
        "colab_type": "code",
        "colab": {}
      },
      "source": [
        "print(my_numpy1 * my_numpy2) # поэлементное умножение двух массивов"
      ],
      "execution_count": 0,
      "outputs": []
    },
    {
      "cell_type": "code",
      "metadata": {
        "id": "ZVWBhoSmzkmW",
        "colab_type": "code",
        "colab": {}
      },
      "source": [
        "print(my_numpy1 ** my_numpy2) # поэлементное возведение в степень"
      ],
      "execution_count": 0,
      "outputs": []
    },
    {
      "cell_type": "code",
      "metadata": {
        "id": "BZXTvnNozkml",
        "colab_type": "code",
        "colab": {}
      },
      "source": [
        "# поэлементное целочисленное деление\n",
        "## обратите внимание на результат деления на ноль в этом случае\n",
        "print(my_numpy2 / my_numpy1)"
      ],
      "execution_count": 0,
      "outputs": []
    },
    {
      "cell_type": "code",
      "metadata": {
        "id": "Ibhvd42BzknC",
        "colab_type": "code",
        "colab": {}
      },
      "source": [
        "# методы работают и без создания новой переменной, но нужны скобочки ()\n",
        "print(((my_numpy1 * my_numpy2 - my_numpy1) ** 2).sum()) # Выведем сумму элементов \"составного\" массива"
      ],
      "execution_count": 0,
      "outputs": []
    },
    {
      "cell_type": "code",
      "metadata": {
        "id": "wh71K2JC0agB",
        "colab_type": "code",
        "colab": {}
      },
      "source": [
        "print(my_numpy1 * 5 + my_numpy2[0] * 17)"
      ],
      "execution_count": 0,
      "outputs": []
    },
    {
      "cell_type": "markdown",
      "metadata": {
        "id": "b4UmXd1Kzknu",
        "colab_type": "text"
      },
      "source": [
        "### 4. Многомерные массивы\n",
        "\n",
        "*Разбор данного раздела:* https://youtu.be/dOKU4sDTcvo?t=5075\n",
        "\n",
        "\n",
        "2D - матрица\n",
        "\n",
        "3D, ..., nD - тензоры"
      ]
    },
    {
      "cell_type": "code",
      "metadata": {
        "id": "yb_hLRcqzknz",
        "colab_type": "code",
        "colab": {}
      },
      "source": [
        "# создаем двумерный массив\n",
        "my_2d_array = np.array([[3, 6, 2, 7],\n",
        "                        [9, 2, 4, 8],\n",
        "                        [8, 2, 3, 6]])\n",
        "\n",
        "print(my_2d_array)"
      ],
      "execution_count": 0,
      "outputs": []
    },
    {
      "cell_type": "code",
      "metadata": {
        "id": "2CaYMqYzPtpW",
        "colab_type": "code",
        "colab": {}
      },
      "source": [
        "# создаем трехмерный массив\n",
        "my_3d_array = np.array([[[3, 6, 2, 7],\n",
        "                        [9, 2, 4, 8],\n",
        "                        [8, 2, 3, 6]]])\n",
        "\n",
        "print(my_3d_array)"
      ],
      "execution_count": 0,
      "outputs": []
    },
    {
      "cell_type": "code",
      "metadata": {
        "id": "odlOePP6zkoK",
        "colab_type": "code",
        "colab": {}
      },
      "source": [
        "print(my_2d_array.shape) # Выводим на экран размерность массива my_2d_array\n",
        "print(my_3d_array.shape) # Выводим на экран размерность массива my_3d_array"
      ],
      "execution_count": 0,
      "outputs": []
    },
    {
      "cell_type": "code",
      "metadata": {
        "id": "TukXkp9Gzkob",
        "colab_type": "code",
        "colab": {}
      },
      "source": [
        "# кол-во элементов массива\n",
        "print(my_2d_array.size) # Выводим на экран количество элементов массива my_2d_array\n",
        "print(my_3d_array.size) # Выводим на экран количество элементов массива my_3d_array"
      ],
      "execution_count": 0,
      "outputs": []
    },
    {
      "cell_type": "markdown",
      "metadata": {
        "id": "FnX1foWJzkoq",
        "colab_type": "text"
      },
      "source": [
        "#### Индексация\n",
        "\n",
        "*Разбор данного раздела:* https://youtu.be/dOKU4sDTcvo?t=5401"
      ]
    },
    {
      "cell_type": "markdown",
      "metadata": {
        "id": "8DWjRHayzkot",
        "colab_type": "text"
      },
      "source": [
        "построчно"
      ]
    },
    {
      "cell_type": "code",
      "metadata": {
        "id": "xUcKXRAYzkov",
        "colab_type": "code",
        "colab": {}
      },
      "source": [
        "# Создадим вдумерный массив\n",
        "my_2d_array2 = np.array([[3, 6, 2, 7],\n",
        "                        [9, 2, 4, 8],\n",
        "                        [8, 2, 3, 6]])\n",
        "\n",
        "print(my_2d_array2) # Выведем на экран массив my_2d_array2"
      ],
      "execution_count": 0,
      "outputs": []
    },
    {
      "cell_type": "code",
      "metadata": {
        "id": "53IoMFztzkpF",
        "colab_type": "code",
        "colab": {}
      },
      "source": [
        "print(my_2d_array2[0]) # Выведем на экран нулевую строку"
      ],
      "execution_count": 0,
      "outputs": []
    },
    {
      "cell_type": "code",
      "metadata": {
        "id": "H1P2iNEhzkpQ",
        "colab_type": "code",
        "colab": {}
      },
      "source": [
        "# первая строка\n",
        "print(my_2d_array2[1]) # Выведем на экран первую строку\n",
        "print(my_2d_array2[-1]) # Выведем на экран последнюю строку"
      ],
      "execution_count": 0,
      "outputs": []
    },
    {
      "cell_type": "markdown",
      "metadata": {
        "id": "pueCxTgkzkpu",
        "colab_type": "text"
      },
      "source": [
        "поэлементно"
      ]
    },
    {
      "cell_type": "code",
      "metadata": {
        "id": "7J_njk56zkpv",
        "colab_type": "code",
        "colab": {}
      },
      "source": [
        "print(my_2d_array2) # Выведем на экран массив my_2d_array2"
      ],
      "execution_count": 0,
      "outputs": []
    },
    {
      "cell_type": "code",
      "metadata": {
        "id": "vqJjLvxszkqE",
        "colab_type": "code",
        "colab": {}
      },
      "source": [
        "print(my_2d_array2[0,0]) # Выведем на экран элемент с индексом [0,0] (нулевая строка, нулевой столбец)"
      ],
      "execution_count": 0,
      "outputs": []
    },
    {
      "cell_type": "code",
      "metadata": {
        "id": "N29vELmHzkqQ",
        "colab_type": "code",
        "colab": {}
      },
      "source": [
        "print(my_2d_array2[0,1]) # Выведем на экран элемент с индексом [0,1] (нулевая строка, первый столбец)"
      ],
      "execution_count": 0,
      "outputs": []
    },
    {
      "cell_type": "code",
      "metadata": {
        "id": "my1ixcQxzkqd",
        "colab_type": "code",
        "colab": {}
      },
      "source": [
        "print(my_2d_array2[1,2]) # Выведем на экран элемент с индексом [1,2] (первая строка, второй столбец)"
      ],
      "execution_count": 0,
      "outputs": []
    },
    {
      "cell_type": "markdown",
      "metadata": {
        "id": "LBTMYwGyzkqn",
        "colab_type": "text"
      },
      "source": [
        "по столбцам"
      ]
    },
    {
      "cell_type": "code",
      "metadata": {
        "id": "JeYr_72Azkqr",
        "colab_type": "code",
        "colab": {}
      },
      "source": [
        "print(my_2d_array2[:, 0]) # Выведем на экран нулевой столбец"
      ],
      "execution_count": 0,
      "outputs": []
    },
    {
      "cell_type": "code",
      "metadata": {
        "id": "PmfkyXfazkrG",
        "colab_type": "code",
        "colab": {}
      },
      "source": [
        "print(my_2d_array2[:, 1]) # Выведем на экран первый столбец"
      ],
      "execution_count": 0,
      "outputs": []
    },
    {
      "cell_type": "code",
      "metadata": {
        "id": "QycmbmWGRnX1",
        "colab_type": "code",
        "colab": {}
      },
      "source": [
        "print(my_2d_array2[1:, 1]) # Выведем на экран первый столбец  и все элементы этого столбца, начиная с первого"
      ],
      "execution_count": 0,
      "outputs": []
    },
    {
      "cell_type": "markdown",
      "metadata": {
        "id": "vhMf-XP7zkrT",
        "colab_type": "text"
      },
      "source": [
        "#### Операции с двумерными массивами и встроенные методы\n",
        "\n",
        "*Разбор данного раздела:* https://youtu.be/dOKU4sDTcvo?t=5601\n"
      ]
    },
    {
      "cell_type": "code",
      "metadata": {
        "id": "Dk2M6MkQzkrX",
        "colab_type": "code",
        "colab": {}
      },
      "source": [
        "print(my_2d_array2) # Выведем на экран массив my_2d_array2"
      ],
      "execution_count": 0,
      "outputs": []
    },
    {
      "cell_type": "code",
      "metadata": {
        "id": "dh4D3i2_zkrg",
        "colab_type": "code",
        "colab": {}
      },
      "source": [
        "print(my_2d_array2.sum()) # Выводим сумму элементов двумерного массива"
      ],
      "execution_count": 0,
      "outputs": []
    },
    {
      "cell_type": "code",
      "metadata": {
        "id": "p3b6i3G-zkrv",
        "colab_type": "code",
        "colab": {}
      },
      "source": [
        "print(my_2d_array2.min(axis=0)) # Выводим минимальный элемент в каждом столбце"
      ],
      "execution_count": 0,
      "outputs": []
    },
    {
      "cell_type": "code",
      "metadata": {
        "id": "kWFJ2pPzzkr7",
        "colab_type": "code",
        "colab": {}
      },
      "source": [
        "print(my_2d_array2.sum(axis=1)) # Выводим сумму каждой строки"
      ],
      "execution_count": 0,
      "outputs": []
    },
    {
      "cell_type": "code",
      "metadata": {
        "id": "V66Mj_qizksR",
        "colab_type": "code",
        "colab": {}
      },
      "source": [
        "# np.ones_like создает массив из единиц такой же размерности как и массив а\n",
        "new_2d_array = np.ones_like(my_2d_array2) # Создаем массив той же размерности, что и my_2d_array2 и заполняем его единицами\n",
        "print(new_2d_array) # Выводим на экран массив new_2d_array"
      ],
      "execution_count": 0,
      "outputs": []
    },
    {
      "cell_type": "code",
      "metadata": {
        "id": "hv2Nt_92zksd",
        "colab_type": "code",
        "colab": {}
      },
      "source": [
        "new_2d_array2 = np.zeros((5,3)) # Создаем массив из нулей заданной размерности (5,3)\n",
        "print (new_2d_array2) # Выводи на экран массив new_2d_array2"
      ],
      "execution_count": 0,
      "outputs": []
    },
    {
      "cell_type": "code",
      "metadata": {
        "id": "8Qri_oG4zksm",
        "colab_type": "code",
        "colab": {}
      },
      "source": [
        "new_2d_array2 = new_2d_array2 * 2 # Умножим каждый элемент массива на 2\n",
        "print(new_2d_array2) # Выводим на экран массив new_2d_array2"
      ],
      "execution_count": 0,
      "outputs": []
    },
    {
      "cell_type": "code",
      "metadata": {
        "id": "sLjQNK5Mzksv",
        "colab_type": "code",
        "colab": {}
      },
      "source": [
        "print(new_2d_array)"
      ],
      "execution_count": 0,
      "outputs": []
    },
    {
      "cell_type": "code",
      "metadata": {
        "id": "YbAtj3Ulzks_",
        "colab_type": "code",
        "colab": {}
      },
      "source": [
        "# поэлементное умножение двух массивов\n",
        "arr1 = np.array([[1,2,3],\n",
        "                 [4,5,6]])\n",
        "arr2 = np.array([[4,3,2],\n",
        "                 [6,4,3]])\n",
        "print(arr1 * arr2) # Выведем на экран результат поэлементого умножения массивов"
      ],
      "execution_count": 0,
      "outputs": []
    },
    {
      "cell_type": "markdown",
      "metadata": {
        "id": "AxvH5kzazktL",
        "colab_type": "text"
      },
      "source": [
        "#### Структура np.matrix\n",
        "\n",
        "*Разбор данного раздела:* https://youtu.be/dOKU4sDTcvo?t=5918\n",
        "\n",
        "Подробнее: https://docs.scipy.org/doc/numpy/reference/generated/numpy.matrix.html"
      ]
    },
    {
      "cell_type": "code",
      "metadata": {
        "id": "eOVm5xM-zktO",
        "colab_type": "code",
        "colab": {}
      },
      "source": [
        "my_matrix = np.matrix(arr1) # Создадим матрицу из массива arr1\n",
        "print(my_matrix) # Выведем на экран матрицу my_matrix\n",
        "print(type(arr1)) # Выведем на экран тип переменной arr1\n",
        "print(type(my_matrix)) # Выведем на экран тип переменной my_matrix"
      ],
      "execution_count": 0,
      "outputs": []
    },
    {
      "cell_type": "code",
      "metadata": {
        "id": "EcLPXc7X5_1i",
        "colab_type": "code",
        "colab": {}
      },
      "source": [
        "print(np.matrix(my_matrix).T) # Выведем на экран транспонированную матрицу"
      ],
      "execution_count": 0,
      "outputs": []
    },
    {
      "cell_type": "code",
      "metadata": {
        "id": "5XpKMQAyzkta",
        "colab_type": "code",
        "colab": {}
      },
      "source": [
        "# в случае с np.matrix выполняется матричное умножение, а не поэлементное (!!!)\n",
        "print(np.matrix(my_matrix) * np.matrix(my_matrix).T)\n"
      ],
      "execution_count": 0,
      "outputs": []
    },
    {
      "cell_type": "markdown",
      "metadata": {
        "id": "VgtDImiPzktu",
        "colab_type": "text"
      },
      "source": [
        "#### Тензоры a.k.a. многомерные массивы\n",
        "\n",
        "*Разбор данного раздела:* https://youtu.be/dOKU4sDTcvo?t=6049\n"
      ]
    },
    {
      "cell_type": "code",
      "metadata": {
        "id": "4o-OcMOIzktz",
        "colab_type": "code",
        "colab": {}
      },
      "source": [
        "# создаем четыркхмерный массив из случайных значений размерности 2 на 3 на 4 на 6 на 5\n",
        "my_tensor = np.random.random((2, 3, 4, 5))\n",
        "print(my_tensor)"
      ],
      "execution_count": 0,
      "outputs": []
    },
    {
      "cell_type": "code",
      "metadata": {
        "id": "7P4LXHmjzkuS",
        "colab_type": "code",
        "colab": {}
      },
      "source": [
        "# проверяем размерность\n",
        "print(my_tensor.shape) # Выводим на экран размерность массива my_tensor"
      ],
      "execution_count": 0,
      "outputs": []
    },
    {
      "cell_type": "markdown",
      "metadata": {
        "id": "N-tfxwVHzkug",
        "colab_type": "text"
      },
      "source": [
        "Как поэлементно обращаться к тензорам?"
      ]
    },
    {
      "cell_type": "code",
      "metadata": {
        "id": "uPFr6zQgzkul",
        "colab_type": "code",
        "colab": {}
      },
      "source": [
        "# элемент с индексами 0 по всем осям\n",
        "my_tensor[0, 0, 0, 0]"
      ],
      "execution_count": 0,
      "outputs": []
    },
    {
      "cell_type": "code",
      "metadata": {
        "id": "PNG7g7z6zkux",
        "colab_type": "code",
        "colab": {}
      },
      "source": [
        "# только первые строки\n",
        "my_tensor[:,  :, :, 0]"
      ],
      "execution_count": 0,
      "outputs": []
    },
    {
      "cell_type": "code",
      "metadata": {
        "id": "pZPs0QzyzkvG",
        "colab_type": "code",
        "colab": {}
      },
      "source": [
        "# сумма элементов по второй оси\n",
        "my_tensor.sum(axis=3)"
      ],
      "execution_count": 0,
      "outputs": []
    },
    {
      "cell_type": "markdown",
      "metadata": {
        "id": "AjtoLgd-zkvT",
        "colab_type": "text"
      },
      "source": [
        "### 5. Матричные операции\n",
        "\n",
        "*Разбор данного раздела:* https://youtu.be/dOKU4sDTcvo?t=6213"
      ]
    },
    {
      "cell_type": "markdown",
      "metadata": {
        "id": "VGAqmU0mzkvx",
        "colab_type": "text"
      },
      "source": [
        "Умножение двух матриц\n",
        "\n",
        "метод .dot"
      ]
    },
    {
      "cell_type": "code",
      "metadata": {
        "id": "tF0ZLfO8zkv1",
        "colab_type": "code",
        "colab": {}
      },
      "source": [
        "print(arr1)"
      ],
      "execution_count": 0,
      "outputs": []
    },
    {
      "cell_type": "code",
      "metadata": {
        "id": "2fybvch-zkwB",
        "colab_type": "code",
        "colab": {}
      },
      "source": [
        "print(arr2)"
      ],
      "execution_count": 0,
      "outputs": []
    },
    {
      "cell_type": "code",
      "metadata": {
        "id": "SLUsk1z0zkwK",
        "colab_type": "code",
        "colab": {}
      },
      "source": [
        "# это не умножение(!!!)\n",
        "## это поэлементное умножение\n",
        "arr1 * arr2"
      ],
      "execution_count": 0,
      "outputs": []
    },
    {
      "cell_type": "code",
      "metadata": {
        "id": "qR1N3UF_zkwX",
        "colab_type": "code",
        "colab": {}
      },
      "source": [
        "# вот это умножение:\n",
        "## метод .dot\n",
        "arrT = arr1.T\n",
        "arr3 = arrT.dot(arr2)\n",
        "print(arr3)"
      ],
      "execution_count": 0,
      "outputs": []
    },
    {
      "cell_type": "markdown",
      "metadata": {
        "id": "Y2_Fa3GLzkwu",
        "colab_type": "text"
      },
      "source": [
        "### 6. Семплирование из распределений\n",
        "\n",
        "*Разбор данного раздела:* https://youtu.be/dOKU4sDTcvo?t=6300\n",
        "\n"
      ]
    },
    {
      "cell_type": "markdown",
      "metadata": {
        "id": "-YeINmX7zkwx",
        "colab_type": "text"
      },
      "source": [
        "Описание всех возможностей модуля np.random:\n",
        "\n",
        "https://docs.scipy.org/doc/numpy-1.15.0/reference/routines.random.html\n"
      ]
    },
    {
      "cell_type": "code",
      "metadata": {
        "id": "fIL1gWXVzkwz",
        "colab_type": "code",
        "colab": {}
      },
      "source": [
        "# создаем массив размера 5 на 5 со случайными числами из стандартного нормального распределения\n",
        "rr = np.random.normal(0, 1, (5,5))\n",
        "print(rr)"
      ],
      "execution_count": 0,
      "outputs": []
    },
    {
      "cell_type": "code",
      "metadata": {
        "id": "iEWNRPh-zkw6",
        "colab_type": "code",
        "colab": {}
      },
      "source": [
        "rr = np.random.randint(0, 10, (5,5))\n",
        "print(rr)"
      ],
      "execution_count": 0,
      "outputs": []
    },
    {
      "cell_type": "markdown",
      "metadata": {
        "id": "ryzPlVHlzkxA",
        "colab_type": "text"
      },
      "source": [
        "### 7. Чтение файлов\n",
        "\n",
        "*Разбор данного раздела:* https://youtu.be/dOKU4sDTcvo?t=6594"
      ]
    },
    {
      "cell_type": "code",
      "metadata": {
        "id": "SLXOnJJqlIQY",
        "colab_type": "code",
        "colab": {}
      },
      "source": [
        "from google.colab import drive\n",
        "drive.mount('/content/drive')"
      ],
      "execution_count": 0,
      "outputs": []
    },
    {
      "cell_type": "code",
      "metadata": {
        "id": "hNzYcuhtzkxE",
        "colab_type": "code",
        "outputId": "4cbb233f-7f99-4c3f-ea7b-cbd4ad9c24b9",
        "colab": {
          "base_uri": "https://localhost:8080/",
          "height": 181
        }
      },
      "source": [
        "# грузим массив из файла .csv\n",
        "my_data = np.loadtxt('/content/drive/My Drive/Базы/iris.csv', delimiter=',', skiprows=1) # skiprows=1 - пропускаем первую строку, поскольку в ней названия колонок базы "
      ],
      "execution_count": 0,
      "outputs": [
        {
          "output_type": "error",
          "ename": "NameError",
          "evalue": "ignored",
          "traceback": [
            "\u001b[0;31m---------------------------------------------------------------------------\u001b[0m",
            "\u001b[0;31mNameError\u001b[0m                                 Traceback (most recent call last)",
            "\u001b[0;32m<ipython-input-2-b60675493655>\u001b[0m in \u001b[0;36m<module>\u001b[0;34m()\u001b[0m\n\u001b[1;32m      1\u001b[0m \u001b[0;31m# грузим массив из файла .csv\u001b[0m\u001b[0;34m\u001b[0m\u001b[0;34m\u001b[0m\u001b[0;34m\u001b[0m\u001b[0m\n\u001b[0;32m----> 2\u001b[0;31m \u001b[0mmy_data\u001b[0m \u001b[0;34m=\u001b[0m \u001b[0mnp\u001b[0m\u001b[0;34m.\u001b[0m\u001b[0mloadtxt\u001b[0m\u001b[0;34m(\u001b[0m\u001b[0;34m'/content/drive/My Drive/Базы/iris.csv'\u001b[0m\u001b[0;34m,\u001b[0m \u001b[0mdelimiter\u001b[0m\u001b[0;34m=\u001b[0m\u001b[0;34m','\u001b[0m\u001b[0;34m,\u001b[0m \u001b[0mskiprows\u001b[0m\u001b[0;34m=\u001b[0m\u001b[0;36m1\u001b[0m\u001b[0;34m)\u001b[0m \u001b[0;31m# skiprows=1 - пропускаем первую строку, поскольку в ней названия колонок базы\u001b[0m\u001b[0;34m\u001b[0m\u001b[0;34m\u001b[0m\u001b[0m\n\u001b[0m",
            "\u001b[0;31mNameError\u001b[0m: name 'np' is not defined"
          ]
        }
      ]
    },
    {
      "cell_type": "code",
      "metadata": {
        "id": "Y5O-OcQbzkxS",
        "colab_type": "code",
        "outputId": "2186a2c8-358c-471a-dd7d-0484325c7926",
        "colab": {
          "base_uri": "https://localhost:8080/",
          "height": 181
        }
      },
      "source": [
        "# вот то, что мы подгрузили\n",
        "my_data"
      ],
      "execution_count": 0,
      "outputs": [
        {
          "output_type": "error",
          "ename": "NameError",
          "evalue": "ignored",
          "traceback": [
            "\u001b[0;31m---------------------------------------------------------------------------\u001b[0m",
            "\u001b[0;31mNameError\u001b[0m                                 Traceback (most recent call last)",
            "\u001b[0;32m<ipython-input-1-e8b419869a6d>\u001b[0m in \u001b[0;36m<module>\u001b[0;34m()\u001b[0m\n\u001b[1;32m      1\u001b[0m \u001b[0;31m# вот то, что мы подгрузили\u001b[0m\u001b[0;34m\u001b[0m\u001b[0;34m\u001b[0m\u001b[0;34m\u001b[0m\u001b[0m\n\u001b[0;32m----> 2\u001b[0;31m \u001b[0mmy_data\u001b[0m\u001b[0;34m\u001b[0m\u001b[0;34m\u001b[0m\u001b[0m\n\u001b[0m",
            "\u001b[0;31mNameError\u001b[0m: name 'my_data' is not defined"
          ]
        }
      ]
    },
    {
      "cell_type": "code",
      "metadata": {
        "id": "4LmMitE1zkxe",
        "colab_type": "code",
        "colab": {}
      },
      "source": [
        "# массив имеет тип np.array сразу\n",
        "type(my_data)"
      ],
      "execution_count": 0,
      "outputs": []
    },
    {
      "cell_type": "code",
      "metadata": {
        "id": "CPyIiZ8bzkxn",
        "colab_type": "code",
        "colab": {}
      },
      "source": [
        "# тип подгруженных данных - float64\n",
        "my_data.dtype"
      ],
      "execution_count": 0,
      "outputs": []
    },
    {
      "cell_type": "code",
      "metadata": {
        "id": "0s6rDAkz8ujZ",
        "colab_type": "code",
        "colab": {}
      },
      "source": [
        "my_data.shape"
      ],
      "execution_count": 0,
      "outputs": []
    },
    {
      "cell_type": "markdown",
      "metadata": {
        "id": "dPl6bnPF1rBz",
        "colab_type": "text"
      },
      "source": [
        "# **Глоссарий**\n",
        "array[n1:n2] - срез массива с элемента n1 по n2 (не включительно)\n",
        "\n",
        "-----------------------\n",
        "\n",
        "**Основные методы для ndarray **\n",
        "\n",
        ".dtype - узнать тип данных массива\n",
        "\n",
        ".shape - узнать размер массива\n",
        "\n",
        ".reshape((*новый размер*))  - поменять размер массива\n",
        "\n",
        ".sum() сумма всех элементов\n",
        "\n",
        ".mean() среднее всех элементов\n",
        "\n",
        ".min() минимальное значение массива\n",
        "\n",
        ".max() максимальное значение\n",
        "\n",
        ".prod() произведение всех элементов\n",
        "\n",
        "-------------------\n",
        "\n",
        "np.arange(n) - генерация массива со значениями от 0 до n (не включительно)\n",
        "\n",
        "np.loadtxt(адрес расположения файла+параметры загрузки)\n",
        "\n",
        "\n"
      ]
    }
  ]
}